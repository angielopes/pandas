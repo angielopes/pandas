{
 "cells": [
  {
   "cell_type": "markdown",
   "id": "57f070b6",
   "metadata": {},
   "source": [
    "# Data Analysis with Pandas: Pivot Tables\n",
    "This notebook demonstrates how to use pivot tables in pandas for data analysis."
   ]
  },
  {
   "cell_type": "markdown",
   "id": "caee01cd",
   "metadata": {},
   "source": [
    "## Step 1: Importing Required Libraries\n",
    "We start by importing the pandas library, which is essential for data manipulation and analysis."
   ]
  },
  {
   "cell_type": "code",
   "execution_count": null,
   "id": "c75b210c",
   "metadata": {},
   "outputs": [],
   "source": [
    "import pandas as pd"
   ]
  },
  {
   "cell_type": "markdown",
   "id": "6249c73f",
   "metadata": {},
   "source": [
    "## Step 2: Loading the Dataset\n",
    "We load the dataset containing homicide statistics from a CSV file. The dataset uses a semicolon (`;`) as the delimiter."
   ]
  },
  {
   "cell_type": "code",
   "execution_count": null,
   "id": "8f616111",
   "metadata": {},
   "outputs": [],
   "source": [
    "df = pd.read_csv(\"../data/ipea/homicidios-consolidados.csv\", sep=\";\")\n",
    "# Display the first few rows of the dataset to understand its structure\n",
    "df.head()"
   ]
  },
  {
   "cell_type": "markdown",
   "id": "2a8ac76c",
   "metadata": {},
   "source": [
    "## Step 3: Reshaping the Data\n",
    "We reshape the dataset using the `stack` method to convert columns into rows. This is useful for creating a long-format dataset."
   ]
  },
  {
   "cell_type": "code",
   "execution_count": null,
   "id": "406b1647",
   "metadata": {},
   "outputs": [],
   "source": [
    "# Reshape the dataset by stacking columns into rows\n",
    "df_stack = (\n",
    "    df.set_index([\"nome\", \"período\"])  # Set 'nome' and 'período' as the index\n",
    "    .stack()  # Stack the remaining columns into rows\n",
    "    .reset_index()  # Reset the index to return to a tabular format\n",
    ")"
   ]
  },
  {
   "cell_type": "markdown",
   "id": "eb6bee93",
   "metadata": {},
   "source": [
    "### Renaming Columns\n",
    "After reshaping, we rename the columns for better readability and consistency."
   ]
  },
  {
   "cell_type": "code",
   "execution_count": null,
   "id": "7bfad996",
   "metadata": {},
   "outputs": [],
   "source": [
    "# Rename the columns for clarity\n",
    "df_stack.columns = [\"nome\", \"periodo\", \"metrica\", \"valor\"]\n",
    "# Display the reshaped dataset\n",
    "df_stack"
   ]
  },
  {
   "cell_type": "markdown",
   "id": "2877dc27",
   "metadata": {},
   "source": [
    "## Step 4: Creating Pivot Tables\n",
    "Pivot tables allow us to summarize and analyze data by reorganizing it into a more readable format."
   ]
  },
  {
   "cell_type": "markdown",
   "id": "b1fc7917",
   "metadata": {},
   "source": [
    "### Pivot Table 1: Grouping by 'nome' and 'periodo'\n",
    "This pivot table summarizes the data by grouping it by `nome` and `periodo` and displaying the values for each metric."
   ]
  },
  {
   "cell_type": "code",
   "execution_count": null,
   "id": "f5327c53",
   "metadata": {},
   "outputs": [],
   "source": [
    "# Create a pivot table grouped by 'nome' and 'periodo', with metrics as columns\n",
    "df_stack.pivot_table(values=\"valor\",\n",
    "                     index=[\"nome\", \"periodo\"],\n",
    "                     columns=\"metrica\")"
   ]
  },
  {
   "cell_type": "markdown",
   "id": "fd52e0c0",
   "metadata": {},
   "source": [
    "### Pivot Table 2: Aggregating by Mean\n",
    "This pivot table calculates the mean value for each metric, grouped only by `nome`."
   ]
  },
  {
   "cell_type": "code",
   "execution_count": null,
   "id": "d1b8f48b",
   "metadata": {},
   "outputs": [],
   "source": [
    "# Create a pivot table grouped by 'nome', aggregating metrics using the mean function\n",
    "df_stack.pivot_table(values=\"valor\",\n",
    "                     index=[\"nome\"],\n",
    "                     columns=\"metrica\",\n",
    "                     aggfunc=\"mean\")  # Aggregation function: mean"
   ]
  }
 ],
 "metadata": {
  "kernelspec": {
   "display_name": "base",
   "language": "python",
   "name": "python3"
  },
  "language_info": {
   "codemirror_mode": {
    "name": "ipython",
    "version": 3
   },
   "file_extension": ".py",
   "mimetype": "text/x-python",
   "name": "python",
   "nbconvert_exporter": "python",
   "pygments_lexer": "ipython3",
   "version": "3.12.7"
  }
 },
 "nbformat": 4,
 "nbformat_minor": 5
}
