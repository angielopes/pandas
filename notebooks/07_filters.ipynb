{
 "cells": [
  {
   "cell_type": "markdown",
   "id": "c736590f",
   "metadata": {},
   "source": [
    "# Filtering Data in Python and Pandas\n",
    "This notebook demonstrates how to filter data using Python and Pandas."
   ]
  },
  {
   "cell_type": "code",
   "execution_count": null,
   "id": "8705a1c9",
   "metadata": {},
   "outputs": [],
   "source": [
    "import pandas as pd"
   ]
  },
  {
   "cell_type": "markdown",
   "id": "6568752c",
   "metadata": {},
   "source": [
    "## Filtering a List Using Python\n",
    "We start by filtering a list of points using basic Python methods."
   ]
  },
  {
   "cell_type": "code",
   "execution_count": null,
   "id": "e82309ed",
   "metadata": {},
   "outputs": [],
   "source": [
    "# Filtering a list with Python methods\n",
    "points = [10, 1, 1, 1, 50, 100, 30, 25, 50]\n",
    "filter_python = []\n",
    "\n",
    "values_50_plus = []\n",
    "for i in points:\n",
    "    filter_python.append(i >= 50)  # Returns boolean values\n",
    "\n",
    "result = []\n",
    "for i in range(len(points)):\n",
    "    if filter_python[i]:  # Adds values where the boolean is True\n",
    "        result.append(points[i])\n",
    "\n",
    "result"
   ]
  },
  {
   "cell_type": "markdown",
   "id": "9278e0bc",
   "metadata": {},
   "source": [
    "## Filtering DataFrames Using Pandas\n",
    "Next, we demonstrate filtering rows in a Pandas DataFrame."
   ]
  },
  {
   "cell_type": "code",
   "execution_count": null,
   "id": "3be775ef",
   "metadata": {},
   "outputs": [],
   "source": [
    "# Using Pandas\n",
    "with_pandas = pd.DataFrame(\n",
    "    {\n",
    "        \"name\": [\"marceline\", \"mon cherri\", \"stacy\"],\n",
    "        \"idade\": [3, 1, 1],\n",
    "        \"uf\": [\"sp\", \"ms\", \"rj\"],\n",
    "    }\n",
    ")\n",
    "\n",
    "filter_pandas = with_pandas[\"idade\"] <= 1  # Returns a boolean series\n",
    "# The comparison is made with a scalar value\n",
    "\n",
    "with_pandas[filter_pandas]  # Filters rows where the condition is True"
   ]
  },
  {
   "cell_type": "markdown",
   "id": "2729d7d3",
   "metadata": {},
   "source": [
    "## Filtering Transactions\n",
    "We now filter transactions based on specific conditions."
   ]
  },
  {
   "cell_type": "code",
   "execution_count": null,
   "id": "585c79e2",
   "metadata": {},
   "outputs": [],
   "source": [
    "# Transactions\n",
    "df = pd.read_csv(\"../data/transactions.csv\")\n",
    "df.head()"
   ]
  },
  {
   "cell_type": "code",
   "execution_count": null,
   "id": "2f9ccf73",
   "metadata": {},
   "outputs": [],
   "source": [
    "# Filtering transactions with 50 or more points\n",
    "filter_transaction = df[\"qtdePontos\"] >= 50\n",
    "df[filter_transaction]"
   ]
  },
  {
   "cell_type": "code",
   "execution_count": null,
   "id": "62292564",
   "metadata": {},
   "outputs": [],
   "source": [
    "# Filtering transactions with points between 50 and 100\n",
    "filter_transaction = (df[\"qtdePontos\"] >= 50) & (df[\"qtdePontos\"] < 100)\n",
    "# Logical AND is used to combine conditions\n",
    "df[filter_transaction]"
   ]
  },
  {
   "cell_type": "code",
   "execution_count": null,
   "id": "807b5ea1",
   "metadata": {},
   "outputs": [],
   "source": [
    "# Filtering transactions with points equal to 1 or 100\n",
    "filter_transaction = (df[\"qtdePontos\"] == 1) | (df[\"qtdePontos\"] == 100)\n",
    "# Logical OR is used to combine conditions\n",
    "df[filter_transaction]"
   ]
  },
  {
   "cell_type": "code",
   "execution_count": null,
   "id": "073c12db",
   "metadata": {},
   "outputs": [],
   "source": [
    "# Filtering transactions with points > 10 and <= 50 from 01/01/2025\n",
    "filter_transaction = ((df[\"qtdePontos\"] > 10) | (df[\"qtdePontos\"] <= 50)) & (df[\"dtCriacao\"] >= \"2025-01-01\")\n",
    "df[filter_transaction]"
   ]
  },
  {
   "cell_type": "markdown",
   "id": "1a249a49",
   "metadata": {},
   "source": [
    "## Filtering Products\n",
    "We filter products based on specific IDs."
   ]
  },
  {
   "cell_type": "code",
   "execution_count": null,
   "id": "f348046c",
   "metadata": {},
   "outputs": [],
   "source": [
    "# Transactions Product\n",
    "product = pd.read_csv(\"../data/transaction_product.csv\")\n",
    "product.head(1)"
   ]
  },
  {
   "cell_type": "code",
   "execution_count": null,
   "id": "dd6d49db",
   "metadata": {},
   "outputs": [],
   "source": [
    "# Returning products with IDs 5 and 11\n",
    "product[\"idProduto\"].isin([5, 11])  # Returns a boolean series\n",
    "product"
   ]
  },
  {
   "cell_type": "markdown",
   "id": "b3c94644",
   "metadata": {},
   "source": [
    "## Filtering Clients\n",
    "Finally, we filter clients based on non-null creation dates."
   ]
  },
  {
   "cell_type": "code",
   "execution_count": null,
   "id": "c7b340df",
   "metadata": {},
   "outputs": [],
   "source": [
    "# Clients\n",
    "client = pd.read_csv(\"../data/clients.csv\")\n",
    "client.head(1)"
   ]
  },
  {
   "cell_type": "code",
   "execution_count": null,
   "id": "5ae345e6",
   "metadata": {},
   "outputs": [],
   "source": [
    "# Filtering clients with non-null creation dates\n",
    "filter_client = client[\"dtCriacao\"].notnull()  # notna can also be used\n",
    "client[filter_client]"
   ]
  },
  {
   "cell_type": "code",
   "execution_count": null,
   "id": "abab50e1",
   "metadata": {},
   "outputs": [],
   "source": [
    "~client[\"dtCriacao\"].isna()  # Negation of NaN (returns non-null values)"
   ]
  }
 ],
 "metadata": {
  "kernelspec": {
   "display_name": "base",
   "language": "python",
   "name": "python3"
  },
  "language_info": {
   "codemirror_mode": {
    "name": "ipython",
    "version": 3
   },
   "file_extension": ".py",
   "mimetype": "text/x-python",
   "name": "python",
   "nbconvert_exporter": "python",
   "pygments_lexer": "ipython3",
   "version": "3.12.7"
  }
 },
 "nbformat": 4,
 "nbformat_minor": 5
}
