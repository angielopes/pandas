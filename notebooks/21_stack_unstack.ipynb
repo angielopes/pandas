{
 "cells": [
  {
   "cell_type": "markdown",
   "id": "3a511136",
   "metadata": {},
   "source": [
    "# Data Preparation and Transformation\n",
    "This notebook demonstrates how to use the `stack` and `unstack` methods in pandas to reshape data."
   ]
  },
  {
   "cell_type": "markdown",
   "id": "b104ac74",
   "metadata": {},
   "source": [
    "## Step 1: Import Required Libraries\n",
    "We start by importing the pandas library, which is essential for data manipulation."
   ]
  },
  {
   "cell_type": "code",
   "execution_count": null,
   "id": "faff39a3",
   "metadata": {},
   "outputs": [],
   "source": [
    "import pandas as pd"
   ]
  },
  {
   "cell_type": "markdown",
   "id": "143b37ef",
   "metadata": {},
   "source": [
    "## Step 2: Load the Dataset\n",
    "We load the dataset containing homicide statistics from a CSV file. The dataset uses a semicolon (`;`) as the delimiter."
   ]
  },
  {
   "cell_type": "code",
   "execution_count": null,
   "id": "ff46ed1f",
   "metadata": {},
   "outputs": [],
   "source": [
    "# Load the dataset\n",
    "df = pd.read_csv(\"../data/ipea/homicidios-consolidados.csv\", sep=\";\")\n",
    "# Display the first few rows of the dataset\n",
    "df.head()"
   ]
  },
  {
   "cell_type": "markdown",
   "id": "07e87a01",
   "metadata": {},
   "source": [
    "## Step 3: Reshape the Data Using `stack`\n",
    "The `stack` method is used to pivot the DataFrame, converting columns into rows. This is useful for creating a long-form dataset."
   ]
  },
  {
   "cell_type": "code",
   "execution_count": null,
   "id": "ea1edf3c",
   "metadata": {},
   "outputs": [],
   "source": [
    "# Reshape the data using stack\n",
    "df_stack = (\n",
    "    df.set_index([\"nome\", \"período\"])  # Set 'nome' and 'período' as the index\n",
    "      .stack()  # Stack the remaining columns into rows\n",
    ")\n",
    "# Reset the index to convert the multi-index into columns\n",
    "df_stack = df_stack.reset_index()\n",
    "# Rename the columns for clarity\n",
    "df_stack.columns = [\"nome\", \"período\", \"metrica\", \"valor\"]\n",
    "# Display the reshaped DataFrame\n",
    "df_stack"
   ]
  },
  {
   "cell_type": "markdown",
   "id": "14ea0c1f",
   "metadata": {},
   "source": [
    "## Step 4: Reshape the Data Back Using `unstack`\n",
    "The `unstack` method is used to pivot the DataFrame back to its original wide format. This is useful for creating a summary table."
   ]
  },
  {
   "cell_type": "code",
   "execution_count": null,
   "id": "b1684ab9",
   "metadata": {},
   "outputs": [],
   "source": [
    "# Reshape the data back using unstack\n",
    "df_unstack = (\n",
    "    df_stack.set_index([\"nome\", \"período\", \"metrica\"])  # Set a multi-index\n",
    "            .unstack()  # Unstack the 'metrica' level of the index\n",
    "            .reset_index()  # Reset the index to flatten the DataFrame\n",
    ")"
   ]
  },
  {
   "cell_type": "markdown",
   "id": "8ce316fc",
   "metadata": {},
   "source": [
    "### Inspect the Columns\n",
    "After unstacking, the column names become a multi-level index. We inspect the columns to understand the structure."
   ]
  },
  {
   "cell_type": "code",
   "execution_count": null,
   "id": "900ea0f6",
   "metadata": {},
   "outputs": [],
   "source": [
    "# Inspect the columns of the unstacked DataFrame\n",
    "df_unstack.columns"
   ]
  },
  {
   "cell_type": "markdown",
   "id": "3e48da8b",
   "metadata": {},
   "source": [
    "## Step 5: Clean Up Column Names\n",
    "We clean up the column names by removing the multi-level index and simplifying them for easier access."
   ]
  },
  {
   "cell_type": "code",
   "execution_count": null,
   "id": "f72727ec",
   "metadata": {},
   "outputs": [],
   "source": [
    "# Extract the metric names from the multi-level columns\n",
    "metricas = df_unstack.columns.droplevel(0)[2:].tolist()\n",
    "# Rename the columns for clarity\n",
    "df_unstack.columns = [\"nome\", \"perído\"] + metricas\n",
    "# Display the cleaned-up DataFrame\n",
    "df_unstack"
   ]
  },
  {
   "cell_type": "markdown",
   "id": "d822d8f3",
   "metadata": {},
   "source": [
    "## Conclusion\n",
    "In this notebook, we demonstrated how to use the `stack` and `unstack` methods in pandas to reshape data. These methods are powerful tools for data transformation and analysis."
   ]
  }
 ],
 "metadata": {
  "kernelspec": {
   "display_name": "base",
   "language": "python",
   "name": "python3"
  },
  "language_info": {
   "codemirror_mode": {
    "name": "ipython",
    "version": 3
   },
   "file_extension": ".py",
   "mimetype": "text/x-python",
   "name": "python",
   "nbconvert_exporter": "python",
   "pygments_lexer": "ipython3",
   "version": "3.12.7"
  }
 },
 "nbformat": 4,
 "nbformat_minor": 5
}
