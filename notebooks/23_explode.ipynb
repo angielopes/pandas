{
 "cells": [
  {
   "cell_type": "markdown",
   "id": "aa5d5a54",
   "metadata": {},
   "source": [
    "# Data Preparation and Transformation\n",
    "This notebook demonstrates how to process and transform a dataset of credit card transactions, including calculating installment values and dates."
   ]
  },
  {
   "cell_type": "markdown",
   "id": "27bac0e6",
   "metadata": {},
   "source": [
    "## Step 1: Import Required Libraries\n",
    "We start by importing the necessary libraries for data manipulation."
   ]
  },
  {
   "cell_type": "code",
   "execution_count": null,
   "id": "bf65671d",
   "metadata": {},
   "outputs": [],
   "source": [
    "import pandas as pd"
   ]
  },
  {
   "cell_type": "markdown",
   "id": "a8232037",
   "metadata": {},
   "source": [
    "## Step 2: Load the Dataset\n",
    "Load the dataset containing transaction details into a pandas DataFrame."
   ]
  },
  {
   "cell_type": "code",
   "execution_count": null,
   "id": "a4abc8f0",
   "metadata": {},
   "outputs": [],
   "source": [
    "df = pd.read_csv(\"../data/parcelas_cartao.csv\")\n",
    "df.head()"
   ]
  },
  {
   "cell_type": "markdown",
   "id": "b2061b96",
   "metadata": {},
   "source": [
    "## Step 3: Data Transformation\n",
    "### Add Installment Value and Order Columns\n",
    "We calculate the value of each installment and create a column to represent the order of installments."
   ]
  },
  {
   "cell_type": "code",
   "execution_count": null,
   "id": "e30b704e",
   "metadata": {},
   "outputs": [],
   "source": [
    "# Convert transaction date to datetime format\n",
    "df[\"dtTransacao\"] = pd.to_datetime(df[\"dtTransacao\"])\n",
    "\n",
    "# Calculate the value of each installment\n",
    "df[\"vlParcela\"] = df[\"vlVenda\"] / df[\"qtParcelas\"]\n",
    "\n",
    "# Create a list of installment orders for each transaction\n",
    "df[\"ordemParcela\"] = df.apply(lambda row: [i for i in range(row[\"qtParcelas\"])], axis=1)\n",
    "\n",
    "# Explode the DataFrame to create one row per installment\n",
    "df_explode = df.explode(\"ordemParcela\")"
   ]
  },
  {
   "cell_type": "markdown",
   "id": "998acd0e",
   "metadata": {},
   "source": [
    "### Define a Function to Calculate Installment Dates\n",
    "This function calculates the date of each installment by adding the installment order (in months) to the transaction date."
   ]
  },
  {
   "cell_type": "code",
   "execution_count": null,
   "id": "c39eb103",
   "metadata": {},
   "outputs": [],
   "source": [
    "def calculo_data_parcela(row):\n",
    "    \"\"\"\n",
    "    Calculate the installment date based on the transaction date and installment order.\n",
    "\n",
    "    Parameters:\n",
    "        row (pd.Series): A row of a DataFrame containing 'dtTransacao' (transaction date)\n",
    "                         and 'ordemParcela' (installment order).\n",
    "\n",
    "    Returns:\n",
    "        str: The calculated installment date in the format 'YYYY-M'.\n",
    "    \"\"\"\n",
    "    # Add the installment order (in months) to the transaction date\n",
    "    dt = row[\"dtTransacao\"] + pd.DateOffset(months=row[\"ordemParcela\"])\n",
    "\n",
    "    # Format the date as 'YYYY-M'\n",
    "    dt = f\"{dt.year}-{dt.month}\"\n",
    "    return dt"
   ]
  },
  {
   "cell_type": "markdown",
   "id": "5357c140",
   "metadata": {},
   "source": [
    "### Apply the Function to Calculate Installment Dates\n",
    "Add a new column to the DataFrame with the calculated installment dates."
   ]
  },
  {
   "cell_type": "code",
   "execution_count": null,
   "id": "25ca29b4",
   "metadata": {},
   "outputs": [],
   "source": [
    "# Apply the function to calculate installment dates\n",
    "df_explode[\"dtParcela\"] = df_explode.apply(calculo_data_parcela, axis=1)\n",
    "\n",
    "# Display the transformed DataFrame\n",
    "df_explode"
   ]
  },
  {
   "cell_type": "markdown",
   "id": "65efbdda",
   "metadata": {},
   "source": [
    "## Step 4: Pivot the Data\n",
    "Group the data by client ID and installment date, sum the installment values, and pivot the table to create a summary view."
   ]
  },
  {
   "cell_type": "code",
   "execution_count": null,
   "id": "adb74dbb",
   "metadata": {},
   "outputs": [],
   "source": [
    "# Group by client ID and installment date, sum the installment values, and pivot the table\n",
    "(df_explode.groupby([\"idCliente\", \"dtParcela\"])\n",
    "            [\"vlParcela\"].sum()\n",
    "            .reset_index()\n",
    "            .pivot_table(index=\"idCliente\",\n",
    "                         columns=\"dtParcela\",\n",
    "                         values=\"vlParcela\",\n",
    "                         fill_value=0)\n",
    ")"
   ]
  }
 ],
 "metadata": {
  "kernelspec": {
   "display_name": "base",
   "language": "python",
   "name": "python3"
  },
  "language_info": {
   "codemirror_mode": {
    "name": "ipython",
    "version": 3
   },
   "file_extension": ".py",
   "mimetype": "text/x-python",
   "name": "python",
   "nbconvert_exporter": "python",
   "pygments_lexer": "ipython3",
   "version": "3.12.7"
  }
 },
 "nbformat": 4,
 "nbformat_minor": 5
}
