{
 "cells": [
  {
   "cell_type": "markdown",
   "id": "7c450b01",
   "metadata": {},
   "source": [
    "# Group By Operations in Pandas\n",
    "This notebook demonstrates how to use the `groupby` method in pandas to perform various aggregation operations on a dataset."
   ]
  },
  {
   "cell_type": "markdown",
   "id": "6021309a",
   "metadata": {},
   "source": [
    "## Importing Required Libraries\n",
    "We start by importing the pandas library, which is essential for data manipulation and analysis."
   ]
  },
  {
   "cell_type": "code",
   "execution_count": null,
   "id": "206c38df",
   "metadata": {},
   "outputs": [],
   "source": [
    "import pandas as pd"
   ]
  },
  {
   "cell_type": "markdown",
   "id": "1e19d1d6",
   "metadata": {},
   "source": [
    "## Loading the Dataset\n",
    "We load the transactions dataset from a CSV file and display the first few rows to understand its structure."
   ]
  },
  {
   "cell_type": "code",
   "execution_count": null,
   "id": "37c8c689",
   "metadata": {},
   "outputs": [],
   "source": [
    "transactions = pd.read_csv(\"../data/transactions.csv\")\n",
    "transactions.head()"
   ]
  },
  {
   "cell_type": "markdown",
   "id": "229e2faa",
   "metadata": {},
   "source": [
    "## Grouping and Aggregating Data\n",
    "### Counting All Columns\n",
    "This operation groups the data by the `idCliente` column and counts the number of non-null values in all columns for each group."
   ]
  },
  {
   "cell_type": "code",
   "execution_count": null,
   "id": "004baa68",
   "metadata": {},
   "outputs": [],
   "source": [
    "# Group by 'idCliente' and count non-null values in all columns\n",
    "transactions.groupby(by=[\"idCliente\"]).count()"
   ]
  },
  {
   "cell_type": "markdown",
   "id": "ba35b68e",
   "metadata": {},
   "source": [
    "### Counting a Specific Column\n",
    "Here, we count the number of transactions (`idTransacao`) for each client (`idCliente`)."
   ]
  },
  {
   "cell_type": "code",
   "execution_count": null,
   "id": "4015cd0e",
   "metadata": {},
   "outputs": [],
   "source": [
    "# Group by 'idCliente' and count the 'idTransacao' column\n",
    "transactions.groupby(by=[\"idCliente\"])[\"idTransacao\"].count()"
   ]
  },
  {
   "cell_type": "markdown",
   "id": "438127b3",
   "metadata": {},
   "source": [
    "### Returning a DataFrame Instead of a Series\n",
    "To ensure the result is a DataFrame, we use double square brackets around the column name."
   ]
  },
  {
   "cell_type": "code",
   "execution_count": null,
   "id": "a41f104e",
   "metadata": {},
   "outputs": [],
   "source": [
    "# Group by 'idCliente' and count 'idTransacao', returning a DataFrame\n",
    "transactions.groupby(by=[\"idCliente\"], as_index=False)[[\"idTransacao\"]].count()"
   ]
  },
  {
   "cell_type": "markdown",
   "id": "d160c032",
   "metadata": {},
   "source": [
    "### Aggregating Multiple Columns\n",
    "We use the `agg` method to apply multiple aggregation functions to different columns. For example, we count the number of transactions and calculate the sum and mean of points (`qtdePontos`)."
   ]
  },
  {
   "cell_type": "code",
   "execution_count": null,
   "id": "47a68176",
   "metadata": {},
   "outputs": [],
   "source": [
    "# Group by 'idCliente' and apply multiple aggregation functions\n",
    "summary = (transactions.groupby(by=[\"idCliente\"], as_index=False)\n",
    " .agg({\"idTransacao\": [\"count\"],\n",
    "       \"qtdePontos\": [\"sum\", \"mean\"]}))"
   ]
  },
  {
   "cell_type": "markdown",
   "id": "bc4c702c",
   "metadata": {},
   "source": [
    "### Understanding MultiIndex Columns\n",
    "The resulting DataFrame has a MultiIndex for its columns, indicating a hierarchy. Let's inspect the column structure."
   ]
  },
  {
   "cell_type": "code",
   "execution_count": null,
   "id": "1bdf22f8",
   "metadata": {},
   "outputs": [],
   "source": [
    "# Display the column structure of the summary DataFrame\n",
    "summary.columns"
   ]
  },
  {
   "cell_type": "markdown",
   "id": "51075b61",
   "metadata": {},
   "source": [
    "### Accessing MultiIndex Columns\n",
    "To access a specific column in a MultiIndex DataFrame, use a tuple with the levels of the index."
   ]
  },
  {
   "cell_type": "code",
   "execution_count": null,
   "id": "9dae483e",
   "metadata": {},
   "outputs": [],
   "source": [
    "# Access the mean of 'qtdePontos' from the summary DataFrame\n",
    "summary[(\"qtdePontos\", \"mean\")]"
   ]
  },
  {
   "cell_type": "markdown",
   "id": "d2b0fe16",
   "metadata": {},
   "source": [
    "### Flattening MultiIndex Columns\n",
    "To simplify the column structure, we can rename the columns to remove the hierarchy and make them more descriptive."
   ]
  },
  {
   "cell_type": "code",
   "execution_count": null,
   "id": "2ca0f75a",
   "metadata": {},
   "outputs": [],
   "source": [
    "# Rename columns to remove MultiIndex and make them more descriptive\n",
    "summary.columns  = [\"idCliente\", \"qtdeTransacao\", \"totalPontos\", \"avgPontos\"]\n",
    "summary"
   ]
  }
 ],
 "metadata": {
  "kernelspec": {
   "display_name": "base",
   "language": "python",
   "name": "python3"
  },
  "language_info": {
   "codemirror_mode": {
    "name": "ipython",
    "version": 3
   },
   "file_extension": ".py",
   "mimetype": "text/x-python",
   "name": "python",
   "nbconvert_exporter": "python",
   "pygments_lexer": "ipython3",
   "version": "3.12.7"
  }
 },
 "nbformat": 4,
 "nbformat_minor": 5
}
