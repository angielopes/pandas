{
 "cells": [
  {
   "cell_type": "markdown",
   "id": "d9e61666",
   "metadata": {},
   "source": [
    "# Handling Missing Data in Pandas\n",
    "This notebook demonstrates various techniques to handle missing data (NaN) in Pandas DataFrames."
   ]
  },
  {
   "cell_type": "markdown",
   "id": "0cbe6514",
   "metadata": {},
   "source": [
    "## Import Required Libraries\n",
    "We start by importing the necessary libraries."
   ]
  },
  {
   "cell_type": "code",
   "execution_count": null,
   "id": "f9387023",
   "metadata": {},
   "outputs": [],
   "source": [
    "import pandas as pd"
   ]
  },
  {
   "cell_type": "markdown",
   "id": "9bdcd58c",
   "metadata": {},
   "source": [
    "## Load the Dataset\n",
    "Load the dataset into a Pandas DataFrame for analysis."
   ]
  },
  {
   "cell_type": "code",
   "execution_count": null,
   "id": "4988c364",
   "metadata": {},
   "outputs": [],
   "source": [
    "clients = pd.read_csv(\"../data/clients.csv\")\n",
    "clients.head()"
   ]
  },
  {
   "cell_type": "markdown",
   "id": "ce348f8d",
   "metadata": {},
   "source": [
    "## Removing Missing Data\n",
    "Explore different methods to remove rows with missing data."
   ]
  },
  {
   "cell_type": "code",
   "execution_count": null,
   "id": "14625754",
   "metadata": {},
   "outputs": [],
   "source": [
    "# Remove rows with at least one NaN value\n",
    "clients.dropna() # This method is not recommended as it may remove important data."
   ]
  },
  {
   "cell_type": "code",
   "execution_count": null,
   "id": "70035307",
   "metadata": {},
   "outputs": [],
   "source": [
    "# Remove rows where all values are NaN\n",
    "clients.dropna(how=\"all\")"
   ]
  },
  {
   "cell_type": "code",
   "execution_count": null,
   "id": "e6a1a68f",
   "metadata": {},
   "outputs": [],
   "source": [
    "# Remove rows with NaN in a specific column (e.g., 'dtAtualizacao')\n",
    "clients.dropna(how=\"all\", subset=[\"dtAtualizacao\"])"
   ]
  },
  {
   "cell_type": "markdown",
   "id": "c5bc4023",
   "metadata": {},
   "source": [
    "## Replacing Missing Data\n",
    "Learn how to replace NaN values with other values."
   ]
  },
  {
   "cell_type": "code",
   "execution_count": null,
   "id": "97bfda8e",
   "metadata": {},
   "outputs": [],
   "source": [
    "# Replace NaN in the 'dtAtualizacao' column with a default value\n",
    "clients[\"dtAtualizacao\"].fillna(\"0000-00-00 00:00:00.000\")"
   ]
  },
  {
   "cell_type": "markdown",
   "id": "0c472830",
   "metadata": {},
   "source": [
    "## Creating a Sample DataFrame\n",
    "Create a small DataFrame to demonstrate filling NaN values with statistical measures."
   ]
  },
  {
   "cell_type": "code",
   "execution_count": null,
   "id": "f2079ccf",
   "metadata": {},
   "outputs": [],
   "source": [
    "df = pd.DataFrame(\n",
    "    {\n",
    "        \"nome\": [\"angela\", \"maria\", None, \"stacy\"],\n",
    "        \"idade\": [27, None, 45, None],\n",
    "        \"salario\": [22000, 17890, None, 3456]\n",
    "    }\n",
    ")\n",
    "df"
   ]
  },
  {
   "cell_type": "markdown",
   "id": "3c47f364",
   "metadata": {},
   "source": [
    "## Filling Missing Data with Mean\n",
    "Fill NaN values with the mean of the respective columns."
   ]
  },
  {
   "cell_type": "code",
   "execution_count": null,
   "id": "5998e30e",
   "metadata": {},
   "outputs": [],
   "source": [
    "# Calculate the mean for numeric columns and fill NaN values\n",
    "mean = df[[\"idade\", \"salario\"]].mean() # This modifies NaN without affecting the mean but changes the standard deviation.\n",
    "df.fillna(mean)"
   ]
  }
 ],
 "metadata": {
  "kernelspec": {
   "display_name": "base",
   "language": "python",
   "name": "python3"
  },
  "language_info": {
   "codemirror_mode": {
    "name": "ipython",
    "version": 3
   },
   "file_extension": ".py",
   "mimetype": "text/x-python",
   "name": "python",
   "nbconvert_exporter": "python",
   "pygments_lexer": "ipython3",
   "version": "3.12.7"
  }
 },
 "nbformat": 4,
 "nbformat_minor": 5
}
