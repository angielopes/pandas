{
 "cells": [
  {
   "cell_type": "markdown",
   "id": "eb41a306",
   "metadata": {},
   "source": [
    "# Merging DataFrames in Pandas\n",
    "This notebook demonstrates various ways to merge DataFrames in Pandas, including different join types and key configurations."
   ]
  },
  {
   "cell_type": "markdown",
   "id": "e920dd8c",
   "metadata": {},
   "source": [
    "## Importing Libraries\n",
    "We start by importing the necessary libraries."
   ]
  },
  {
   "cell_type": "code",
   "execution_count": null,
   "id": "c7653b85",
   "metadata": {},
   "outputs": [],
   "source": [
    "import pandas as pd"
   ]
  },
  {
   "cell_type": "markdown",
   "id": "cf871893",
   "metadata": {},
   "source": [
    "## Loading Datasets\n",
    "Load the transactions and clients datasets to demonstrate merging operations."
   ]
  },
  {
   "cell_type": "code",
   "execution_count": null,
   "id": "4a9c37c4",
   "metadata": {},
   "outputs": [],
   "source": [
    "# Load transactions dataset\n",
    "transactions = pd.read_csv(\"../data/transactions.csv\")\n",
    "transactions.head()"
   ]
  },
  {
   "cell_type": "code",
   "execution_count": null,
   "id": "4e05354b",
   "metadata": {},
   "outputs": [],
   "source": [
    "# Load clients dataset\n",
    "clients = pd.read_csv(\"../data/clients.csv\")\n",
    "clients.head()"
   ]
  },
  {
   "cell_type": "markdown",
   "id": "01aa784a",
   "metadata": {},
   "source": [
    "## Merging Transactions and Clients\n",
    "Perform a left join to combine transactions with client information based on the `idCliente` column."
   ]
  },
  {
   "cell_type": "code",
   "execution_count": null,
   "id": "92e543f9",
   "metadata": {},
   "outputs": [],
   "source": [
    "# Merge transactions with clients using a left join\n",
    "transactions.merge(right=clients,\n",
    "                   how=\"left\",\n",
    "                   on=[\"idCliente\"],\n",
    "                   suffixes=[\"Transacao\", \"Cliente\"] # Add suffixes to differentiate overlapping columns\n",
    "                             )\n",
    "# Transactions -> left"
   ]
  },
  {
   "cell_type": "markdown",
   "id": "fd54c9f5",
   "metadata": {},
   "source": [
    "## Creating Example DataFrames\n",
    "Define two small DataFrames to demonstrate merging with different key names."
   ]
  },
  {
   "cell_type": "code",
   "execution_count": null,
   "id": "abf8c4d9",
   "metadata": {},
   "outputs": [],
   "source": [
    "# Define the first DataFrame\n",
    "df_1 = pd.DataFrame(\n",
    "    {\n",
    "        \"transacao\": [1, 2, 3, 4, 5],\n",
    "        \"idCliente\": [1, 2, 3, 2, 2],\n",
    "        \"valor\": [10, 90, 30, 45, 60]\n",
    "    }\n",
    ")"
   ]
  },
  {
   "cell_type": "code",
   "execution_count": null,
   "id": "97308905",
   "metadata": {},
   "outputs": [],
   "source": [
    "# Define the second DataFrame\n",
    "df_2 = pd.DataFrame(\n",
    "    {\n",
    "       \"id\": [1, 2, 3, 4],\n",
    "       \"nome\": [\"marceline\", \"naniquinha\", \"mon cherri\", \"stacy\"] \n",
    "    }\n",
    ")"
   ]
  },
  {
   "cell_type": "markdown",
   "id": "68e7cce2",
   "metadata": {},
   "source": [
    "### Merging with Different Key Names\n",
    "Perform a left join where the key columns have different names in the two DataFrames."
   ]
  },
  {
   "cell_type": "code",
   "execution_count": null,
   "id": "a3fcefd2",
   "metadata": {},
   "outputs": [],
   "source": [
    "# Merge df_1 and df_2 using different key names\n",
    "df_1.merge(df_2, left_on=[\"idCliente\"], right_on=[\"id\"], how=\"left\") # Merge with primary and foreign keys having different names"
   ]
  },
  {
   "cell_type": "markdown",
   "id": "0972ddf7",
   "metadata": {},
   "source": [
    "## Merging Transactions, Products, and Clients\n",
    "Load additional datasets and demonstrate more complex merging operations."
   ]
  },
  {
   "cell_type": "code",
   "execution_count": null,
   "id": "996faa98",
   "metadata": {},
   "outputs": [],
   "source": [
    "# Load transaction-product dataset\n",
    "transaction_product = pd.read_csv(\"../data/transaction_product.csv\")\n",
    "transaction_product.head()"
   ]
  },
  {
   "cell_type": "code",
   "execution_count": null,
   "id": "ed7d76dc",
   "metadata": {},
   "outputs": [],
   "source": [
    "# Load products dataset\n",
    "products = pd.read_csv(\"../data/products.csv\")\n",
    "products.head()"
   ]
  },
  {
   "cell_type": "markdown",
   "id": "c777de18",
   "metadata": {},
   "source": [
    "### Combining Transactions and Products\n",
    "Merge transactions with products through the transaction-product mapping."
   ]
  },
  {
   "cell_type": "code",
   "execution_count": null,
   "id": "c0b5926c",
   "metadata": {},
   "outputs": [],
   "source": [
    "# Merge transactions with transaction-product mapping\n",
    "client_transaction_product = transactions.merge(\n",
    "    transaction_product, on=\"idTransacao\",\n",
    "    how=\"left\"\n",
    ")[[\"idTransacao\", \"idCliente\", \"idProduto\"]]\n",
    "\n",
    "client_transaction_product"
   ]
  },
  {
   "cell_type": "code",
   "execution_count": null,
   "id": "4da0d921",
   "metadata": {},
   "outputs": [],
   "source": [
    "# Merge the result with products dataset\n",
    "df_full = client_transaction_product.merge(\n",
    "    products,\n",
    "    on=[\"idProduto\"]\n",
    ")"
   ]
  },
  {
   "cell_type": "markdown",
   "id": "6fc68db8",
   "metadata": {},
   "source": [
    "### Filtering and Aggregating Data\n",
    "Filter the merged dataset for a specific product and find the client with the highest number of transactions."
   ]
  },
  {
   "cell_type": "code",
   "execution_count": null,
   "id": "fd7fb094",
   "metadata": {},
   "outputs": [],
   "source": [
    "# Filter for a specific product\n",
    "df_full = df_full[df_full[\"descProduto\"] == \"Presença Streak\"]"
   ]
  },
  {
   "cell_type": "code",
   "execution_count": null,
   "id": "e6083a52",
   "metadata": {},
   "outputs": [],
   "source": [
    "# Group by client and count transactions\n",
    "(df_full.groupby(by=[\"idCliente\"])[\"idTransacao\"]\n",
    "    .count()\n",
    "    .sort_values(ascending=False)\n",
    "    .head(1))"
   ]
  },
  {
   "cell_type": "markdown",
   "id": "eee8eeff",
   "metadata": {},
   "source": [
    "### Optimized Approach\n",
    "Demonstrate a more efficient way to achieve the same result using chained operations."
   ]
  },
  {
   "cell_type": "code",
   "execution_count": null,
   "id": "c80c04cd",
   "metadata": {},
   "outputs": [],
   "source": [
    "# Optimized approach with chained operations\n",
    "\n",
    "# Filter products\n",
    "products = products[products[\"descProduto\"] == \"Presença Streak\"]\n",
    "\n",
    "# Perform merges and aggregation\n",
    "(transactions.merge(transaction_product, on=\"idTransacao\", how=\"left\",\n",
    "    ).merge(products, on=[\"idProduto\"], how=\"right\") # -> right join keeps only filtered values\n",
    "    .groupby(by=\"idCliente\")[\"idTransacao\"]\n",
    "    .count()\n",
    "    .sort_values(ascending=False)\n",
    "    .head(1)\n",
    ")"
   ]
  }
 ],
 "metadata": {
  "kernelspec": {
   "display_name": "base",
   "language": "python",
   "name": "python3"
  },
  "language_info": {
   "codemirror_mode": {
    "name": "ipython",
    "version": 3
   },
   "file_extension": ".py",
   "mimetype": "text/x-python",
   "name": "python",
   "nbconvert_exporter": "python",
   "pygments_lexer": "ipython3",
   "version": "3.12.7"
  }
 },
 "nbformat": 4,
 "nbformat_minor": 5
}
