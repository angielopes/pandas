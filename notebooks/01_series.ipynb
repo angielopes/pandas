{
 "cells": [
  {
   "cell_type": "markdown",
   "metadata": {},
   "source": [
    "# Working with Statistics\n",
    "This notebook demonstrates how to calculate basic statistics (average and variance) using both Python's built-in functions and Pandas."
   ]
  },
  {
   "cell_type": "code",
   "execution_count": 1,
   "metadata": {},
   "outputs": [],
   "source": [
    "# List of ages\n",
    "ages = [1, 2, 3, 8, 9, 27, 35, 58, 63, 65]"
   ]
  },
  {
   "cell_type": "markdown",
   "metadata": {},
   "source": [
    "### Working with Statistics without Pandas\n",
    "Using Python's built-in functions to calculate the average and variance of a list of numbers."
   ]
  },
  {
   "cell_type": "code",
   "execution_count": null,
   "metadata": {},
   "outputs": [],
   "source": [
    "# Calculating the average of a list of numbers\n",
    "avg = sum(ages) / len(ages)\n",
    "print(f\"Average: {avg}\")\n",
    "\n",
    "# Calculating the variance of a list of numbers\n",
    "diffs = 0\n",
    "for age in ages:\n",
    "    diffs += (age - avg) ** 2\n",
    "\n",
    "variance = diffs / (len(ages) - 1)\n",
    "print(f\"Variance: {variance}\")"
   ]
  },
  {
   "cell_type": "markdown",
   "metadata": {},
   "source": [
    "### Working with Statistics using Pandas\n",
    "Using Pandas to calculate the average, variance, and other descriptive statistics."
   ]
  },
  {
   "cell_type": "code",
   "execution_count": null,
   "metadata": {},
   "outputs": [],
   "source": [
    "import pandas as pd\n",
    "\n",
    "series_age = pd.Series(ages)\n",
    "\n",
    "# Average\n",
    "avg_pandas = series_age.mean()\n",
    "print(f\"Average using Pandas: {avg_pandas}\")\n",
    "\n",
    "# Variance\n",
    "variance_pandas = series_age.var()\n",
    "print(f\"Variance using Pandas: {variance_pandas}\")\n",
    "\n",
    "# Describe\n",
    "summary_idades = series_age.describe()\n",
    "print(f\"Details about the data:\\n{summary_idades}\")"
   ]
  }
 ],
 "metadata": {
  "kernelspec": {
   "display_name": "base",
   "language": "python",
   "name": "python3"
  },
  "language_info": {
   "codemirror_mode": {
    "name": "ipython",
    "version": 3
   },
   "file_extension": ".py",
   "mimetype": "text/x-python",
   "name": "python",
   "nbconvert_exporter": "python",
   "pygments_lexer": "ipython3",
   "version": "3.12.7"
  }
 },
 "nbformat": 4,
 "nbformat_minor": 2
}
