{
 "cells": [
  {
   "cell_type": "markdown",
   "id": "eb5eba40",
   "metadata": {},
   "source": [
    "# Using SQL with Pandas\n",
    "This notebook demonstrates how to use SQL queries with Pandas to interact with a database."
   ]
  },
  {
   "cell_type": "markdown",
   "id": "798066c4",
   "metadata": {},
   "source": [
    "## Importing Required Libraries\n",
    "We start by importing the necessary libraries: `pandas` for data manipulation and `sqlalchemy` for database interaction."
   ]
  },
  {
   "cell_type": "code",
   "execution_count": null,
   "id": "479f0c43",
   "metadata": {},
   "outputs": [],
   "source": [
    "import pandas as pd\n",
    "import sqlalchemy"
   ]
  },
  {
   "cell_type": "markdown",
   "id": "b83086d9",
   "metadata": {},
   "source": [
    "## Connecting to the Database\n",
    "Here, we create a connection to the SQLite database using SQLAlchemy."
   ]
  },
  {
   "cell_type": "code",
   "execution_count": null,
   "id": "54783b3a",
   "metadata": {},
   "outputs": [],
   "source": [
    "# Create a connection to the SQLite database\n",
    "engine = sqlalchemy.create_engine(\"sqlite:///../data/olist.db\")"
   ]
  },
  {
   "cell_type": "markdown",
   "id": "c6b1dac6",
   "metadata": {},
   "source": [
    "## Reading a Table into a DataFrame\n",
    "We use the `read_sql_table` method to load the `tb_customers` table into a Pandas DataFrame."
   ]
  },
  {
   "cell_type": "code",
   "execution_count": null,
   "id": "c2c0eef3",
   "metadata": {},
   "outputs": [],
   "source": [
    "# Load the 'tb_customers' table into a DataFrame\n",
    "clients = pd.read_sql_table(table_name=\"tb_customers\",\n",
    "                            con=engine)"
   ]
  },
  {
   "cell_type": "markdown",
   "id": "18fcd121",
   "metadata": {},
   "source": [
    "### Inspecting the DataFrame\n",
    "Check the shape of the DataFrame to understand the number of rows and columns."
   ]
  },
  {
   "cell_type": "code",
   "execution_count": null,
   "id": "20cf75a0",
   "metadata": {},
   "outputs": [],
   "source": [
    "# Display the shape of the DataFrame\n",
    "clients.shape"
   ]
  },
  {
   "cell_type": "markdown",
   "id": "58892053",
   "metadata": {},
   "source": [
    "## Executing a Custom SQL Query\n",
    "We can also execute custom SQL queries using the `read_sql_query` method. Below, we fetch the first 100 rows from the `tb_customers` table."
   ]
  },
  {
   "cell_type": "code",
   "execution_count": null,
   "id": "500e0685",
   "metadata": {},
   "outputs": [],
   "source": [
    "# Define a SQL query to fetch the first 100 rows\n",
    "query = 'SELECT * FROM tb_customers LIMIT 100'"
   ]
  },
  {
   "cell_type": "code",
   "execution_count": null,
   "id": "6690b911",
   "metadata": {},
   "outputs": [],
   "source": [
    "# Execute the query and load the result into a DataFrame\n",
    "df_100 = pd.read_sql_query(query, con=engine)\n",
    "# Display the resulting DataFrame\n",
    "df_100"
   ]
  },
  {
   "cell_type": "markdown",
   "id": "0a9d6770",
   "metadata": {},
   "source": [
    "### Summary\n",
    "In this notebook, we demonstrated how to:\n",
    "- Connect to a database using SQLAlchemy\n",
    "- Load a table into a Pandas DataFrame\n",
    "- Execute custom SQL queries and fetch results into a DataFrame\n",
    "\n",
    "These techniques are useful for integrating SQL and Pandas for data analysis."
   ]
  }
 ],
 "metadata": {
  "kernelspec": {
   "display_name": "base",
   "language": "python",
   "name": "python3"
  },
  "language_info": {
   "name": "python",
   "version": "3.12.7"
  }
 },
 "nbformat": 4,
 "nbformat_minor": 5
}
