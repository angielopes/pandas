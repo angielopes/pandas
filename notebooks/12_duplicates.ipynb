{
 "cells": [
  {
   "cell_type": "markdown",
   "id": "46eb4876",
   "metadata": {},
   "source": [
    "# Handling Duplicates in Pandas\n",
    "This notebook demonstrates how to handle duplicate rows in a DataFrame using Pandas."
   ]
  },
  {
   "cell_type": "markdown",
   "id": "e51f3355",
   "metadata": {},
   "source": [
    "## Importing Required Libraries\n",
    "We start by importing the Pandas library."
   ]
  },
  {
   "cell_type": "code",
   "execution_count": null,
   "id": "f190c69c",
   "metadata": {},
   "outputs": [],
   "source": [
    "import pandas as pd"
   ]
  },
  {
   "cell_type": "markdown",
   "id": "13ed67e6",
   "metadata": {},
   "source": [
    "## Creating a Sample DataFrame\n",
    "The DataFrame contains duplicate rows based on the combination of `nome` and `sobrenome` columns."
   ]
  },
  {
   "cell_type": "code",
   "execution_count": null,
   "id": "cf21dbdf",
   "metadata": {},
   "outputs": [],
   "source": [
    "df = pd.DataFrame({\n",
    "    \"nome\": [\"Ana\", \"Bruno\", \"Ana\", \"Carlos\", \"Bruno\", \"Diana\", \"Ana\", \"Carlos\", \"Bruno\"],\n",
    "    \"sobrenome\": [\"Silva\", \"Souza\", \"Silva\", \"Oliveira\", \"Souza\", \"Costa\", \"Souza\", \"Oliveira\", \"Mendes\"],\n",
    "    \"salario\": [3000, 4500, 3000, 5000, 4700, 4700, 3000, 5000, 4500]\n",
    "})\n",
    "df"
   ]
  },
  {
   "cell_type": "markdown",
   "id": "4766f025",
   "metadata": {},
   "source": [
    "## Removing Duplicate Rows\n",
    "We remove duplicate rows while keeping the first occurrence by default. You can also choose to keep the last occurrence using `keep=\"last\"`."
   ]
  },
  {
   "cell_type": "code",
   "execution_count": null,
   "id": "19a6dc68",
   "metadata": {},
   "outputs": [],
   "source": [
    "# Remove duplicate rows and keep the first occurrence.\n",
    "df.drop_duplicates()"
   ]
  },
  {
   "cell_type": "markdown",
   "id": "40124a27",
   "metadata": {},
   "source": [
    "## Removing Duplicates Based on Specific Columns\n",
    "We sort the DataFrame by salary in descending order and remove duplicates based on the combination of `nome` and `sobrenome`, keeping the row with the highest salary."
   ]
  },
  {
   "cell_type": "code",
   "execution_count": null,
   "id": "870412b2",
   "metadata": {},
   "outputs": [],
   "source": [
    "# Sort by salary and remove duplicates based on 'nome' and 'sobrenome'.\n",
    "df = (df.sort_values(\"salario\", ascending=False)\n",
    "        .drop_duplicates(keep=\"first\", subset=[\"nome\", \"sobrenome\"]))\n",
    "df"
   ]
  },
  {
   "cell_type": "markdown",
   "id": "1c74b85b",
   "metadata": {},
   "source": [
    "## Final DataFrame\n",
    "The resulting DataFrame contains unique rows based on `nome` and `sobrenome`, with the highest salary retained for duplicates."
   ]
  },
  {
   "cell_type": "code",
   "execution_count": null,
   "id": "6279d09c",
   "metadata": {},
   "outputs": [],
   "source": [
    "df"
   ]
  }
 ],
 "metadata": {
  "kernelspec": {
   "display_name": "base",
   "language": "python",
   "name": "python3"
  },
  "language_info": {
   "codemirror_mode": {
    "name": "ipython",
    "version": 3
   },
   "file_extension": ".py",
   "mimetype": "text/x-python",
   "name": "python",
   "nbconvert_exporter": "python",
   "pygments_lexer": "ipython3",
   "version": "3.12.7"
  }
 },
 "nbformat": 4,
 "nbformat_minor": 5
}
