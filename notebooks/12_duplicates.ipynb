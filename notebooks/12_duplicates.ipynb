{
 "cells": [
  {
   "cell_type": "code",
   "execution_count": null,
   "id": "f190c69c",
   "metadata": {},
   "outputs": [],
   "source": [
    "import pandas as pd"
   ]
  },
  {
   "cell_type": "code",
   "execution_count": null,
   "id": "cf21dbdf",
   "metadata": {},
   "outputs": [],
   "source": [
    "df = pd.DataFrame({\n",
    "    \"nome\": [\"Ana\", \"Bruno\", \"Ana\", \"Carlos\", \"Bruno\", \"Diana\", \"Ana\", \"Carlos\", \"Bruno\"],\n",
    "    \"sobrenome\": [\"Silva\", \"Souza\", \"Silva\", \"Oliveira\", \"Souza\", \"Costa\", \"Souza\", \"Oliveira\", \"Mendes\"],\n",
    "    \"salario\": [3000, 4500, 3000, 5000, 4700, 4700, 3000, 5000, 4500]\n",
    "})\n",
    "df"
   ]
  },
  {
   "cell_type": "code",
   "execution_count": null,
   "id": "19a6dc68",
   "metadata": {},
   "outputs": [],
   "source": [
    "# Remove as linhas duplicadas e deixa a primeira ocorrência.\n",
    "df.drop_duplicates() # É possível escolher entre deixar a primeira ou última ocorrência (keep=\"last\")"
   ]
  },
  {
   "cell_type": "code",
   "execution_count": null,
   "id": "870412b2",
   "metadata": {},
   "outputs": [],
   "source": [
    "# Ordenar pelo salário\n",
    "df = (df.sort_values(\"salario\", ascending=False).drop_duplicates(keep=\"first\", subset=[\"nome\", \"sobrenome\"]))\n",
    "# Remove os nomes + sobrenome duplicados e deixa a ocorrencia com maior salário\n",
    "df"
   ]
  },
  {
   "cell_type": "code",
   "execution_count": null,
   "id": "6279d09c",
   "metadata": {},
   "outputs": [],
   "source": []
  }
 ],
 "metadata": {
  "kernelspec": {
   "display_name": "base",
   "language": "python",
   "name": "python3"
  },
  "language_info": {
   "codemirror_mode": {
    "name": "ipython",
    "version": 3
   },
   "file_extension": ".py",
   "mimetype": "text/x-python",
   "name": "python",
   "nbconvert_exporter": "python",
   "pygments_lexer": "ipython3",
   "version": "3.12.7"
  }
 },
 "nbformat": 4,
 "nbformat_minor": 5
}
