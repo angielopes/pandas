{
 "cells": [
  {
   "cell_type": "markdown",
   "id": "ca4cfa5f",
   "metadata": {},
   "source": [
    "# Data Concatenation in Pandas\n",
    "This notebook demonstrates how to concatenate DataFrames in Pandas using different configurations."
   ]
  },
  {
   "cell_type": "markdown",
   "id": "3f79bbb6",
   "metadata": {},
   "source": [
    "## Importing Required Libraries\n",
    "We start by importing the necessary libraries for data manipulation and file handling."
   ]
  },
  {
   "cell_type": "code",
   "execution_count": null,
   "id": "43ac059e",
   "metadata": {},
   "outputs": [],
   "source": [
    "import pandas as pd\n",
    "import os"
   ]
  },
  {
   "cell_type": "markdown",
   "id": "8f44dde0",
   "metadata": {},
   "source": [
    "## Creating Sample DataFrames\n",
    "Below, we create three sample DataFrames to demonstrate concatenation."
   ]
  },
  {
   "cell_type": "code",
   "execution_count": null,
   "id": "fd078e42",
   "metadata": {},
   "outputs": [],
   "source": [
    "# First DataFrame with client IDs and names\n",
    "df = pd.DataFrame(\n",
    "    {\n",
    "        \"cliente\": [1, 2, 3, 4, 5],\n",
    "        \"nome\": [\"mar\", \"nani\", \"mon\", \"stacy\", \"tap\"]\n",
    "    }\n",
    ")"
   ]
  },
  {
   "cell_type": "code",
   "execution_count": null,
   "id": "a0665b5f",
   "metadata": {},
   "outputs": [],
   "source": [
    "# Second DataFrame with additional client IDs and names\n",
    "df_02 = pd.DataFrame(\n",
    "    {\n",
    "        \"cliente\": [6, 7, 8],\n",
    "        \"nome\": [\"frida\", \"frodo\", \"faisca\"]\n",
    "    }\n",
    ")"
   ]
  },
  {
   "cell_type": "code",
   "execution_count": null,
   "id": "c7ca0b9a",
   "metadata": {},
   "outputs": [],
   "source": [
    "# Third DataFrame with ages\n",
    "df_03 = pd.DataFrame(\n",
    "    {\n",
    "        \"idade\": [2, 2, 1, 1, 4, 8, 8, 3]\n",
    "    }\n",
    ")"
   ]
  },
  {
   "cell_type": "markdown",
   "id": "a4b999e2",
   "metadata": {},
   "source": [
    "## Vertical Concatenation\n",
    "Concatenating `df` and `df_02` vertically (row-wise) while resetting the index."
   ]
  },
  {
   "cell_type": "code",
   "execution_count": null,
   "id": "31a85f95",
   "metadata": {},
   "outputs": [],
   "source": [
    "# Concatenate df and df_02 row-wise\n",
    "pd.concat([df, df_02], ignore_index=True)"
   ]
  },
  {
   "cell_type": "markdown",
   "id": "89418f5a",
   "metadata": {},
   "source": [
    "## Horizontal Concatenation\n",
    "Concatenating `df` and `df_03` horizontally (column-wise)."
   ]
  },
  {
   "cell_type": "code",
   "execution_count": null,
   "id": "681a8ae1",
   "metadata": {},
   "outputs": [],
   "source": [
    "# Combine df and df_03 into a list for concatenation\n",
    "dfs = [df, df_03]"
   ]
  },
  {
   "cell_type": "code",
   "execution_count": null,
   "id": "2d1a3ed7",
   "metadata": {},
   "outputs": [],
   "source": [
    "# Concatenate df and df_03 column-wise\n",
    "pd.concat(dfs, axis=1)"
   ]
  },
  {
   "cell_type": "markdown",
   "id": "50de7e69",
   "metadata": {},
   "source": [
    "## Sorting and Resetting Index\n",
    "Sorting `df_03` by the `idade` column and resetting its index for better alignment."
   ]
  },
  {
   "cell_type": "code",
   "execution_count": null,
   "id": "ef41677f",
   "metadata": {},
   "outputs": [],
   "source": [
    "# Sort df_03 by age and reset the index\n",
    "df_03 = df_03.sort_values(by=\"idade\").reset_index(drop=True)\n",
    "df_03"
   ]
  },
  {
   "cell_type": "code",
   "execution_count": null,
   "id": "cc9c0068",
   "metadata": {},
   "outputs": [],
   "source": [
    "# Concatenate df and the sorted df_03 column-wise\n",
    "pd.concat([df, df_03], axis=1)"
   ]
  },
  {
   "cell_type": "markdown",
   "id": "c9b89ea1",
   "metadata": {},
   "source": [
    "## Reading and Processing Files\n",
    "Define a function to read and process CSV files from a directory."
   ]
  },
  {
   "cell_type": "code",
   "execution_count": null,
   "id": "a6b0febe",
   "metadata": {},
   "outputs": [],
   "source": [
    "# Function to read and process a CSV file\n",
    "def read_file(file_name: str):\n",
    "    df = (pd.read_csv(f\"../data/ipea/{file_name}.csv\", sep=\";\")\n",
    "          .rename(columns={\"valor\": file_name})\n",
    "          .set_index([\"nome\", \"período\"])\n",
    "          .drop([\"cod\"], axis=1))\n",
    "    return df"
   ]
  },
  {
   "cell_type": "code",
   "execution_count": null,
   "id": "01d708ea",
   "metadata": {},
   "outputs": [],
   "source": [
    "# Example: Reading a specific file\n",
    "df_negros = read_file(\"homicidios-negros\")\n",
    "df_negros"
   ]
  },
  {
   "cell_type": "markdown",
   "id": "928c1b92",
   "metadata": {},
   "source": [
    "## Processing Multiple Files\n",
    "Iterate through all files in the directory and process them using the `read_file` function."
   ]
  },
  {
   "cell_type": "code",
   "execution_count": null,
   "id": "dc54e935",
   "metadata": {},
   "outputs": [],
   "source": [
    "# List all files in the directory\n",
    "file_names = os.listdir(\"../data/ipea/\")\n",
    "\n",
    "# Process each file and store the resulting DataFrames in a list\n",
    "dfs_ipea = []\n",
    "for file in file_names:\n",
    "    file_name = file.split(\".\")[0]\n",
    "    dfs_ipea.append(read_file(file_name))"
   ]
  },
  {
   "cell_type": "code",
   "execution_count": null,
   "id": "ba6cd8b0",
   "metadata": {},
   "outputs": [],
   "source": [
    "# Accessing one of the processed DataFrames\n",
    "dfs_ipea[-3]"
   ]
  },
  {
   "cell_type": "markdown",
   "id": "b890dbe6",
   "metadata": {},
   "source": [
    "## Consolidating Data\n",
    "Concatenate all processed DataFrames horizontally and sort the result."
   ]
  },
  {
   "cell_type": "code",
   "execution_count": null,
   "id": "d8c05902",
   "metadata": {},
   "outputs": [],
   "source": [
    "# Concatenate all DataFrames and sort by period and name\n",
    "df_full = pd.concat(dfs_ipea, axis=1).reset_index().sort_values([\"período\", \"nome\"])"
   ]
  },
  {
   "cell_type": "markdown",
   "id": "7d9ff1b9",
   "metadata": {},
   "source": [
    "## Exporting the Consolidated Data\n",
    "Save the consolidated DataFrame to a CSV file for further analysis."
   ]
  },
  {
   "cell_type": "code",
   "execution_count": null,
   "id": "c8024284",
   "metadata": {},
   "outputs": [],
   "source": [
    "# Save the consolidated DataFrame to a CSV file\n",
    "df_full.to_csv(\"../data/ipea/homicidios-consolidados.csv\", index=False, sep=\";\")"
   ]
  }
 ],
 "metadata": {
  "kernelspec": {
   "display_name": "base",
   "language": "python",
   "name": "python3"
  },
  "language_info": {
   "codemirror_mode": {
    "name": "ipython",
    "version": 3
   },
   "file_extension": ".py",
   "mimetype": "text/x-python",
   "name": "python",
   "nbconvert_exporter": "python",
   "pygments_lexer": "ipython3",
   "version": "3.12.7"
  }
 },
 "nbformat": 4,
 "nbformat_minor": 5
}
