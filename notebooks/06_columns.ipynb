{
 "cells": [
  {
   "cell_type": "markdown",
   "id": "15495934",
   "metadata": {},
   "source": [
    "# Importing Libraries\n",
    "This section imports the necessary libraries for data manipulation."
   ]
  },
  {
   "cell_type": "code",
   "execution_count": null,
   "id": "feb4bcbd",
   "metadata": {},
   "outputs": [],
   "source": [
    "import pandas as pd"
   ]
  },
  {
   "cell_type": "markdown",
   "id": "857fae11",
   "metadata": {},
   "source": [
    "# Loading the Dataset\n",
    "Load the transactions dataset into a pandas DataFrame."
   ]
  },
  {
   "cell_type": "code",
   "execution_count": null,
   "id": "2976cfd9",
   "metadata": {},
   "outputs": [],
   "source": [
    "df_trans = pd.read_csv(\"../data/transactions.csv\")\n",
    "df_trans"
   ]
  },
  {
   "cell_type": "markdown",
   "id": "1d0c21c6",
   "metadata": {},
   "source": [
    "# Checking Data Types\n",
    "Inspect the data types of the columns in the DataFrame."
   ]
  },
  {
   "cell_type": "code",
   "execution_count": null,
   "id": "47d2b456",
   "metadata": {},
   "outputs": [],
   "source": [
    "df_trans.dtypes"
   ]
  },
  {
   "cell_type": "markdown",
   "id": "eace8ddb",
   "metadata": {},
   "source": [
    "# Renaming Columns\n",
    "Define a dictionary to rename columns and apply the changes to the DataFrame."
   ]
  },
  {
   "cell_type": "code",
   "execution_count": null,
   "id": "b906e2ab",
   "metadata": {},
   "outputs": [],
   "source": [
    "renamed_columns = {\"qtdePontos\": \"qtPontos\",\n",
    "                   \"descSistemaOrigem\": \"SistemaOrigem\"}\n",
    "# Dictionary where the key is the old name, and the value is the new name."
   ]
  },
  {
   "cell_type": "code",
   "execution_count": null,
   "id": "2ef42bf2",
   "metadata": {},
   "outputs": [],
   "source": [
    "df_trans.rename(columns=renamed_columns, inplace=True) # Rename columns and apply changes directly to the DataFrame."
   ]
  },
  {
   "cell_type": "markdown",
   "id": "9913d802",
   "metadata": {},
   "source": [
    "# Selecting Specific Columns\n",
    "Retrieve specific columns from the DataFrame as a new DataFrame."
   ]
  },
  {
   "cell_type": "code",
   "execution_count": null,
   "id": "a0500895",
   "metadata": {},
   "outputs": [],
   "source": [
    "df_trans[['idCliente','qtPontos']] # Use a list of column names to return specific columns as a DataFrame."
   ]
  },
  {
   "cell_type": "markdown",
   "id": "21889ebc",
   "metadata": {},
   "source": [
    "# Sampling Rows\n",
    "Randomly sample a few rows from the DataFrame."
   ]
  },
  {
   "cell_type": "code",
   "execution_count": null,
   "id": "0110dade",
   "metadata": {},
   "outputs": [],
   "source": [
    "df_trans[['idCliente']].sample(5) # Limit the output to 5 random rows."
   ]
  },
  {
   "cell_type": "markdown",
   "id": "ccd88bee",
   "metadata": {},
   "source": [
    "# Sorting Columns\n",
    "Sort the column names alphabetically and reorder the DataFrame accordingly."
   ]
  },
  {
   "cell_type": "code",
   "execution_count": null,
   "id": "6e5efeb9",
   "metadata": {},
   "outputs": [],
   "source": [
    "columns = list(df_trans.columns) # Create a list of column names and sort them alphabetically.\n",
    "columns.sort()\n",
    "columns"
   ]
  },
  {
   "cell_type": "code",
   "execution_count": null,
   "id": "5ab4e038",
   "metadata": {},
   "outputs": [],
   "source": [
    "df_trans = df_trans[columns] # Reorder the DataFrame columns based on the sorted list.\n",
    "df_trans"
   ]
  }
 ],
 "metadata": {
  "kernelspec": {
   "display_name": "base",
   "language": "python",
   "name": "python3"
  },
  "language_info": {
   "codemirror_mode": {
    "name": "ipython",
    "version": 3
   },
   "file_extension": ".py",
   "mimetype": "text/x-python",
   "name": "python",
   "nbconvert_exporter": "python",
   "pygments_lexer": "ipython3",
   "version": "3.12.7"
  }
 },
 "nbformat": 4,
 "nbformat_minor": 5
}
