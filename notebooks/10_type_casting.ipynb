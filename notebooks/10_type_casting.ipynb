{
 "cells": [
  {
   "cell_type": "markdown",
   "id": "3588aec9",
   "metadata": {},
   "source": [
    "# Type Casting in Pandas\n",
    "This notebook demonstrates how to perform type casting in pandas, including converting data types and handling invalid values."
   ]
  },
  {
   "cell_type": "markdown",
   "id": "d25b13d2",
   "metadata": {},
   "source": [
    "## Import Required Libraries\n",
    "We start by importing the necessary libraries."
   ]
  },
  {
   "cell_type": "code",
   "execution_count": null,
   "id": "75ee4a68",
   "metadata": {},
   "outputs": [],
   "source": [
    "import pandas as pd"
   ]
  },
  {
   "cell_type": "markdown",
   "id": "9935ae0f",
   "metadata": {},
   "source": [
    "## Load the Dataset\n",
    "Load the dataset into a pandas DataFrame for processing."
   ]
  },
  {
   "cell_type": "code",
   "execution_count": null,
   "id": "c1265d3d",
   "metadata": {},
   "outputs": [],
   "source": [
    "df = pd.read_csv(\"../data/clients.csv\")\n",
    "df.head()"
   ]
  },
  {
   "cell_type": "markdown",
   "id": "37efc1b5",
   "metadata": {},
   "source": [
    "## Type Conversion\n",
    "Convert the data types of specific columns to ensure consistency and compatibility."
   ]
  },
  {
   "cell_type": "code",
   "execution_count": null,
   "id": "bd8e98fe",
   "metadata": {},
   "outputs": [],
   "source": [
    "# Convert 'qtdePontos' column from integer to float\n",
    "df[\"qtdePontos\"] = df[\"qtdePontos\"].astype(float)"
   ]
  },
  {
   "cell_type": "markdown",
   "id": "db9f7f3e",
   "metadata": {},
   "source": [
    "## Handle Invalid Values\n",
    "Replace invalid date values with a default valid date."
   ]
  },
  {
   "cell_type": "code",
   "execution_count": null,
   "id": "0335a2bb",
   "metadata": {},
   "outputs": [],
   "source": [
    "# Dictionary to replace invalid date values\n",
    "replace = {\"0000-00-00 00:00:00.000\": \"2024-01-01 09:00:00.000\"}"
   ]
  },
  {
   "cell_type": "markdown",
   "id": "0fdf256c",
   "metadata": {},
   "source": [
    "## Convert Strings to Datetime\n",
    "Use `pd.to_datetime` to convert string values to datetime format after replacing invalid values."
   ]
  },
  {
   "cell_type": "code",
   "execution_count": null,
   "id": "de561d7b",
   "metadata": {},
   "outputs": [],
   "source": [
    "# Replace invalid values and convert 'dtCriacao' to datetime\n",
    "df[\"dtCriacao\"] = pd.to_datetime(df[\"dtCriacao\"].replace(replace))\n",
    "df"
   ]
  },
  {
   "cell_type": "markdown",
   "id": "2b6241f6",
   "metadata": {},
   "source": [
    "## Perform Operations on Datetime Columns\n",
    "After converting to datetime, use various datetime properties and methods for analysis."
   ]
  },
  {
   "cell_type": "code",
   "execution_count": null,
   "id": "890a434a",
   "metadata": {},
   "outputs": [],
   "source": [
    "# Extract year, month name, and date from 'dtCriacao'\n",
    "df[\"dtCriacao\"].dt.year  # Extract year\n",
    "df[\"dtCriacao\"].dt.month_name()  # Extract month name\n",
    "df[\"dtCriacao\"].dt.date  # Extract date"
   ]
  }
 ],
 "metadata": {
  "kernelspec": {
   "display_name": "base",
   "language": "python",
   "name": "python3"
  },
  "language_info": {
   "codemirror_mode": {
    "name": "ipython",
    "version": 3
   },
   "file_extension": ".py",
   "mimetype": "text/x-python",
   "name": "python",
   "nbconvert_exporter": "python",
   "pygments_lexer": "ipython3",
   "version": "3.12.7"
  }
 },
 "nbformat": 4,
 "nbformat_minor": 5
}
