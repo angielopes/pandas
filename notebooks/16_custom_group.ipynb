{
 "cells": [
  {
   "cell_type": "markdown",
   "id": "fb99ab3f",
   "metadata": {},
   "source": [
    "# Custom Grouping with Pandas\n",
    "This notebook demonstrates how to perform custom grouping and aggregation using pandas. It includes examples of defining custom aggregation functions and applying them to grouped data."
   ]
  },
  {
   "cell_type": "markdown",
   "id": "5018885b",
   "metadata": {},
   "source": [
    "## Importing Libraries\n",
    "We start by importing the necessary libraries: pandas for data manipulation and numpy for numerical operations."
   ]
  },
  {
   "cell_type": "code",
   "execution_count": null,
   "id": "95842c00",
   "metadata": {},
   "outputs": [],
   "source": [
    "import pandas as pd\n",
    "import numpy as np"
   ]
  },
  {
   "cell_type": "markdown",
   "id": "8a6381e3",
   "metadata": {},
   "source": [
    "## Loading the Dataset\n",
    "We load the transactions dataset, which contains information about customer transactions, including transaction IDs, customer IDs, creation dates, and points earned."
   ]
  },
  {
   "cell_type": "code",
   "execution_count": null,
   "id": "32aed7ed",
   "metadata": {},
   "outputs": [],
   "source": [
    "transactions = pd.read_csv(\"../data/transactions.csv\")\n",
    "# Display the first few rows of the dataset to understand its structure\n",
    "transactions.head()"
   ]
  },
  {
   "cell_type": "markdown",
   "id": "21ab654a",
   "metadata": {},
   "source": [
    "## Defining a Custom Aggregation Function\n",
    "We define a custom function `diff_amp` to calculate the difference amplitude statistic for a pandas Series. This function computes the square root of the squared difference between the amplitude (max - min) and the mean of the Series."
   ]
  },
  {
   "cell_type": "code",
   "execution_count": null,
   "id": "a8c1c9ca",
   "metadata": {},
   "outputs": [],
   "source": [
    "def diff_amp(x: pd.Series):\n",
    "    \"\"\"\n",
    "    Calculate the difference amplitude statistic for a pandas Series.\n",
    "    Parameters:\n",
    "        x (pd.Series): A pandas Series containing numerical data.\n",
    "    Returns:\n",
    "        float: The square root of the squared difference between the amplitude \n",
    "           (max - min) and the mean of the Series.\n",
    "    \"\"\"\n",
    "    amplitude = x.max() - x.min()  # Calculate the amplitude (max - min)\n",
    "    average = x.mean()  # Calculate the mean of the Series\n",
    "    return np.sqrt((amplitude - average) ** 2)  # Return the computed statistic"
   ]
  },
  {
   "cell_type": "markdown",
   "id": "c2b47219",
   "metadata": {},
   "source": [
    "### Example Usage of `diff_amp`\n",
    "We test the `diff_amp` function on a small Series of ages to verify its behavior."
   ]
  },
  {
   "cell_type": "code",
   "execution_count": null,
   "id": "262baa68",
   "metadata": {},
   "outputs": [],
   "source": [
    "ages = pd.Series([34, 23, 67, 89, 12, 3, 27, 87, 15])\n",
    "# Apply the custom function to the Series\n",
    "diff_amp(ages)"
   ]
  },
  {
   "cell_type": "markdown",
   "id": "abef3e8e",
   "metadata": {},
   "source": [
    "## Grouping and Aggregating Data\n",
    "We group the transactions dataset by `idCliente` and apply various aggregation functions, including the custom `diff_amp` function, to summarize the data."
   ]
  },
  {
   "cell_type": "code",
   "execution_count": null,
   "id": "b7696666",
   "metadata": {},
   "outputs": [],
   "source": [
    "summary = (transactions.groupby(by=[\"idCliente\"], as_index=False)\n",
    " .agg({\n",
    "     \"idTransacao\": [\"count\"],  # Count the number of transactions per customer\n",
    "     \"qtdePontos\": [\"sum\", \"mean\", diff_amp]  # Sum, mean, and custom aggregation for points\n",
    " }))"
   ]
  },
  {
   "cell_type": "markdown",
   "id": "f6db5d71",
   "metadata": {},
   "source": [
    "### Renaming Columns for Clarity\n",
    "We rename the columns of the summary DataFrame to make them more descriptive."
   ]
  },
  {
   "cell_type": "code",
   "execution_count": null,
   "id": "ac7aa212",
   "metadata": {},
   "outputs": [],
   "source": [
    "summary.columns = [\n",
    "    \"idCliente\",  # Customer ID\n",
    "    \"qtdeTransacao\",  # Number of transactions\n",
    "    \"totalPontos\",  # Total points earned\n",
    "    \"mediaPontos\",  # Average points per transaction\n",
    "    \"ampMeanDiff\"  # Custom difference amplitude statistic\n",
    "]\n",
    "\n",
    "# Display the summarized DataFrame\n",
    "summary"
   ]
  }
 ],
 "metadata": {
  "kernelspec": {
   "display_name": "base",
   "language": "python",
   "name": "python3"
  },
  "language_info": {
   "codemirror_mode": {
    "name": "ipython",
    "version": 3
   },
   "file_extension": ".py",
   "mimetype": "text/x-python",
   "name": "python",
   "nbconvert_exporter": "python",
   "pygments_lexer": "ipython3",
   "version": "3.12.7"
  }
 },
 "nbformat": 4,
 "nbformat_minor": 5
}
