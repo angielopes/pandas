{
    "cells": [
        {
            "cell_type": "code",
            "execution_count": null,
            "metadata": {},
            "outputs": [],
            "source": [
                "# Importing the pandas library\n",
                "import pandas as pd"
            ]
        },
        {
            "cell_type": "markdown",
            "metadata": {},
            "source": [
                "### Reading and Writing CSV Files\n",
                "Demonstrating how to read and write CSV files using Pandas."
            ]
        },
        {
            "cell_type": "code",
            "execution_count": null,
            "metadata": {},
            "outputs": [],
            "source": [
                "# Reading a CSV file\n",
                "df = pd.read_csv(\"../data/clients.csv\") # Reads the file without modifying it\n",
                "df"
            ]
        },
        {
            "cell_type": "code",
            "execution_count": null,
            "metadata": {},
            "outputs": [],
            "source": [
                "# Writing the DataFrame to a Parquet file\n",
                "df.to_parquet(\"../data/clients.parquet\", index=False) # Saves the file in the specified format and location"
            ]
        },
        {
            "cell_type": "markdown",
            "metadata": {},
            "source": [
                "### Reading and Writing Parquet Files\n",
                "Demonstrating how to handle Parquet files with Pandas."
            ]
        },
        {
            "cell_type": "code",
            "execution_count": null,
            "metadata": {},
            "outputs": [],
            "source": [
                "# Reading a Parquet file\n",
                "df_2 = pd.read_parquet(\"../data/clients.parquet\") # Reads the Parquet file\n",
                "df_2"
            ]
        },
        {
            "cell_type": "markdown",
            "metadata": {},
            "source": [
                "### Reading CSV Files with Custom Separators\n",
                "Specify a custom separator when reading CSV files."
            ]
        },
        {
            "cell_type": "code",
            "execution_count": null,
            "metadata": {},
            "outputs": [],
            "source": [
                "# Reading a CSV file with a custom separator\n",
                "df_3 = pd.read_csv(\"../data/sep.csv\", sep=\";\") # Default separator is a comma, specify if different\n",
                "df_3"
            ]
        },
        {
            "cell_type": "markdown",
            "metadata": {},
            "source": [
                "### Reading HTML Tables\n",
                "Extract tables from an HTML page using Pandas."
            ]
        },
        {
            "cell_type": "code",
            "execution_count": null,
            "metadata": {},
            "outputs": [],
            "source": [
                "# Reading tables from a Wikipedia page\n",
                "url = \"https://pt.wikipedia.org/wiki/Unidades_federativas_do_Brasil\"\n",
                "dfs = pd.read_html(url) # Returns a list of all DataFrames on the page\n",
                "dfs"
            ]
        },
        {
            "cell_type": "code",
            "execution_count": null,
            "metadata": {},
            "outputs": [],
            "source": [
                "# Selecting a specific table from the list\n",
                "df_uf = dfs[1] # Choose the desired DataFrame\n",
                "df_uf"
            ]
        },
        {
            "cell_type": "markdown",
            "metadata": {},
            "source": [
                "### Saving Extracted HTML Data\n",
                "Save the extracted data from the HTML page to a CSV file."
            ]
        },
        {
            "cell_type": "code",
            "execution_count": null,
            "metadata": {},
            "outputs": [],
            "source": [
                "# Saving the extracted data to a CSV file\n",
                "df_uf.to_csv(\"../data/ufs_brazil.csv\", sep=\";\", index=False) # Saves the data from Wikipedia"
            ]
        }
    ],
    "metadata": {
        "kernelspec": {
            "display_name": "base",
            "language": "python",
            "name": "python3"
        },
        "language_info": {
            "codemirror_mode": {
                "name": "ipython",
                "version": 3
            },
            "file_extension": ".py",
            "mimetype": "text/x-python",
            "name": "python",
            "nbconvert_exporter": "python",
            "pygments_lexer": "ipython3",
            "version": "3.12.7"
        }
    },
    "nbformat": 4,
    "nbformat_minor": 2
}