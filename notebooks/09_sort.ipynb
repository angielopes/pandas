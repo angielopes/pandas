{
 "cells": [
  {
   "cell_type": "markdown",
   "id": "a7ba46ba",
   "metadata": {},
   "source": [
    "# Sorting in Pandas\n",
    "This notebook demonstrates various ways to sort data using Pandas."
   ]
  },
  {
   "cell_type": "markdown",
   "id": "6ae7b0aa",
   "metadata": {},
   "source": [
    "## Importing Libraries\n",
    "We start by importing the necessary libraries."
   ]
  },
  {
   "cell_type": "code",
   "execution_count": null,
   "id": "653efe62",
   "metadata": {},
   "outputs": [],
   "source": [
    "import pandas as pd"
   ]
  },
  {
   "cell_type": "markdown",
   "id": "206624bd",
   "metadata": {},
   "source": [
    "## Loading the Dataset\n",
    "We load the dataset containing client information."
   ]
  },
  {
   "cell_type": "code",
   "execution_count": null,
   "id": "68fe7177",
   "metadata": {},
   "outputs": [],
   "source": [
    "clients = pd.read_csv(\"../data/clients.csv\")\n",
    "clients.head(1)"
   ]
  },
  {
   "cell_type": "markdown",
   "id": "889f2a38",
   "metadata": {},
   "source": [
    "## Finding the Client with the Most Points\n",
    "We identify the client with the highest number of points."
   ]
  },
  {
   "cell_type": "code",
   "execution_count": null,
   "id": "2ddeaeb9",
   "metadata": {},
   "outputs": [],
   "source": [
    "# Finding the client with the most points\n",
    "max_points = clients[\"qtdePontos\"].max()\n",
    "filter_max = clients[\"qtdePontos\"] == max_points\n",
    "clients[filter_max]"
   ]
  },
  {
   "cell_type": "markdown",
   "id": "a7db9355",
   "metadata": {},
   "source": [
    "## Sorting Points in Ascending Order\n",
    "We use `sort_values` to sort the points column in ascending order."
   ]
  },
  {
   "cell_type": "code",
   "execution_count": null,
   "id": "39bca255",
   "metadata": {},
   "outputs": [],
   "source": [
    "# Sorting points in ascending order\n",
    "clients[\"qtdePontos\"].sort_values() # Sorts from smallest to largest"
   ]
  },
  {
   "cell_type": "markdown",
   "id": "23eef503",
   "metadata": {},
   "source": [
    "## Sorting the DataFrame by Points\n",
    "We sort the entire DataFrame by the `qtdePontos` column in descending order and display the top 5 rows."
   ]
  },
  {
   "cell_type": "code",
   "execution_count": null,
   "id": "52d96268",
   "metadata": {},
   "outputs": [],
   "source": [
    "# Sorting the DataFrame by points (top 5 clients with the most points)\n",
    "clients.sort_values(by=\"qtdePontos\", ascending=False).head(5) # Sorts the DataFrame by qtdePontos in descending order.\n",
    "# A new DataFrame is created. The original is not modified."
   ]
  },
  {
   "cell_type": "markdown",
   "id": "440c4eb1",
   "metadata": {},
   "source": [
    "## Creating a New DataFrame\n",
    "We create a new DataFrame to demonstrate sorting by multiple columns."
   ]
  },
  {
   "cell_type": "code",
   "execution_count": null,
   "id": "b97afffc",
   "metadata": {},
   "outputs": [],
   "source": [
    "# Creating a new DataFrame\n",
    "more_than_one_ordenation = pd.DataFrame(\n",
    "    {\n",
    "        \"nome\": [\"angela\", \"carol\", \"rosa\", \"julia\"],\n",
    "        \"idade\": [27, 35, 23, 56],\n",
    "        \"salario\": [2500, 5678, 2500, 3450]\n",
    "    }\n",
    ")\n",
    "\n",
    "more_than_one_ordenation"
   ]
  },
  {
   "cell_type": "markdown",
   "id": "403ea161",
   "metadata": {},
   "source": [
    "## Sorting by Multiple Columns\n",
    "We sort the new DataFrame by `salario` in descending order and `idade` in ascending order."
   ]
  },
  {
   "cell_type": "code",
   "execution_count": null,
   "id": "90719d4f",
   "metadata": {},
   "outputs": [],
   "source": [
    "# Sorting the DataFrame by two columns\n",
    "more_than_one_ordenation.sort_values(by=[\"salario\", \"idade\"], ascending=[False, True]) # First by salary (descending), then by age (ascending).\n",
    "# The `ascending` parameter can take multiple values."
   ]
  }
 ],
 "metadata": {
  "kernelspec": {
   "display_name": "base",
   "language": "python",
   "name": "python3"
  },
  "language_info": {
   "codemirror_mode": {
    "name": "ipython",
    "version": 3
   },
   "file_extension": ".py",
   "mimetype": "text/x-python",
   "name": "python",
   "nbconvert_exporter": "python",
   "pygments_lexer": "ipython3",
   "version": "3.12.7"
  }
 },
 "nbformat": 4,
 "nbformat_minor": 5
}
