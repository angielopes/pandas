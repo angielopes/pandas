{
 "cells": [
  {
   "cell_type": "markdown",
   "id": "eab29afe",
   "metadata": {},
   "source": [
    "# Data Preparation and Analysis\n",
    "This notebook demonstrates how to create new columns in a DataFrame using pandas and numpy."
   ]
  },
  {
   "cell_type": "markdown",
   "id": "6a3d61a8",
   "metadata": {},
   "source": [
    "## Importing Libraries\n",
    "We start by importing the necessary libraries for data manipulation and visualization."
   ]
  },
  {
   "cell_type": "code",
   "execution_count": null,
   "id": "7bad4318",
   "metadata": {},
   "outputs": [],
   "source": [
    "import pandas as pd\n",
    "import numpy as np\n",
    "import matplotlib.pyplot as plt"
   ]
  },
  {
   "cell_type": "markdown",
   "id": "896522a2",
   "metadata": {},
   "source": [
    "## Loading the Dataset\n",
    "Load the dataset containing client information."
   ]
  },
  {
   "cell_type": "code",
   "execution_count": null,
   "id": "f61df158",
   "metadata": {},
   "outputs": [],
   "source": [
    "df = pd.read_csv(\"../data/clients.csv\")\n",
    "df"
   ]
  },
  {
   "cell_type": "markdown",
   "id": "931c4551",
   "metadata": {},
   "source": [
    "## Adding New Columns\n",
    "### Adding a Constant Value to a Column\n",
    "Add 100 points to the `qtdePontos` column and store the result in a new column `pontos_100`."
   ]
  },
  {
   "cell_type": "code",
   "execution_count": null,
   "id": "7f04fa6e",
   "metadata": {},
   "outputs": [],
   "source": [
    "# Adding 100 points to the existing points\n",
    "df[\"pontos_100\"] = df[\"qtdePontos\"] + 100\n",
    "df.head()"
   ]
  },
  {
   "cell_type": "markdown",
   "id": "f2d71a8a",
   "metadata": {},
   "source": [
    "### Combining Two Columns\n",
    "Combine the `flEmail` and `flTwitch` columns to create a new column `emailTwitch`."
   ]
  },
  {
   "cell_type": "code",
   "execution_count": null,
   "id": "9246edac",
   "metadata": {},
   "outputs": [],
   "source": [
    "# Combining email and Twitch flags\n",
    "df[\"emailTwitch\"] = df[\"flEmail\"] + df['flTwitch']\n",
    "df.head()"
   ]
  },
  {
   "cell_type": "markdown",
   "id": "6210aa7a",
   "metadata": {},
   "source": [
    "### Applying Mathematical Transformations\n",
    "Use numpy to calculate the logarithm of the `qtdePontos` column and store it in a new column `logPontos`."
   ]
  },
  {
   "cell_type": "code",
   "execution_count": null,
   "id": "2354d1c5",
   "metadata": {},
   "outputs": [],
   "source": [
    "# Calculating the logarithm of points\n",
    "df[\"logPontos\"] = np.log(df[\"qtdePontos\"] + 1)\n",
    "df"
   ]
  },
  {
   "cell_type": "markdown",
   "id": "efc518ec",
   "metadata": {},
   "source": [
    "## Visualizing Data\n",
    "### Histogram of `qtdePontos`\n",
    "Visualize the distribution of the `qtdePontos` column."
   ]
  },
  {
   "cell_type": "code",
   "execution_count": null,
   "id": "8ccc815b",
   "metadata": {},
   "outputs": [],
   "source": [
    "# Plotting histogram for qtdePontos\n",
    "plt.hist(df[\"qtdePontos\"])\n",
    "plt.grid(True)\n",
    "plt.show()"
   ]
  },
  {
   "cell_type": "markdown",
   "id": "84819c90",
   "metadata": {},
   "source": [
    "### Histogram of `logPontos`\n",
    "Visualize the distribution of the `logPontos` column for better insights."
   ]
  },
  {
   "cell_type": "code",
   "execution_count": null,
   "id": "b6d1dd5c",
   "metadata": {},
   "outputs": [],
   "source": [
    "# Plotting histogram for logPontos\n",
    "plt.hist(df[\"logPontos\"])\n",
    "plt.grid(True)\n",
    "plt.show()"
   ]
  }
 ],
 "metadata": {
  "kernelspec": {
   "display_name": "base",
   "language": "python",
   "name": "python3"
  },
  "language_info": {
   "codemirror_mode": {
    "name": "ipython",
    "version": 3
   },
   "file_extension": ".py",
   "mimetype": "text/x-python",
   "name": "python",
   "nbconvert_exporter": "python",
   "pygments_lexer": "ipython3",
   "version": "3.12.7"
  }
 },
 "nbformat": 4,
 "nbformat_minor": 5
}
