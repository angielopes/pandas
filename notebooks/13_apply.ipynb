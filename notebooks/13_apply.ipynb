{
 "cells": [
  {
   "cell_type": "markdown",
   "id": "8e0d6ba0",
   "metadata": {},
   "source": [
    "# Applying Functions in Pandas\n",
    "This notebook demonstrates how to use Python functions with Pandas, including the `apply` method, to manipulate and transform data."
   ]
  },
  {
   "cell_type": "markdown",
   "id": "0acc133a",
   "metadata": {},
   "source": [
    "## Import Required Libraries\n",
    "We start by importing the necessary libraries."
   ]
  },
  {
   "cell_type": "code",
   "execution_count": 65,
   "id": "f4e4ea9d",
   "metadata": {},
   "outputs": [],
   "source": [
    "import pandas as pd"
   ]
  },
  {
   "cell_type": "markdown",
   "id": "78cf974a",
   "metadata": {},
   "source": [
    "## Load Data\n",
    "Load the dataset containing client information."
   ]
  },
  {
   "cell_type": "code",
   "execution_count": 66,
   "id": "ee4bac34",
   "metadata": {},
   "outputs": [
    {
     "data": {
      "text/html": [
       "<div>\n",
       "<style scoped>\n",
       "    .dataframe tbody tr th:only-of-type {\n",
       "        vertical-align: middle;\n",
       "    }\n",
       "\n",
       "    .dataframe tbody tr th {\n",
       "        vertical-align: top;\n",
       "    }\n",
       "\n",
       "    .dataframe thead th {\n",
       "        text-align: right;\n",
       "    }\n",
       "</style>\n",
       "<table border=\"1\" class=\"dataframe\">\n",
       "  <thead>\n",
       "    <tr style=\"text-align: right;\">\n",
       "      <th></th>\n",
       "      <th>idCliente</th>\n",
       "      <th>flEmail</th>\n",
       "      <th>flTwitch</th>\n",
       "      <th>flYouTube</th>\n",
       "      <th>flBlueSky</th>\n",
       "      <th>flInstagram</th>\n",
       "      <th>qtdePontos</th>\n",
       "      <th>dtCriacao</th>\n",
       "      <th>dtAtualizacao</th>\n",
       "    </tr>\n",
       "  </thead>\n",
       "  <tbody>\n",
       "    <tr>\n",
       "      <th>0</th>\n",
       "      <td>000ff655-fa9f-4baa-a108-47f581ec52a1</td>\n",
       "      <td>0</td>\n",
       "      <td>0</td>\n",
       "      <td>0</td>\n",
       "      <td>0</td>\n",
       "      <td>0</td>\n",
       "      <td>686</td>\n",
       "      <td>NaN</td>\n",
       "      <td>NaN</td>\n",
       "    </tr>\n",
       "    <tr>\n",
       "      <th>1</th>\n",
       "      <td>001749bd-37b5-4b1e-8111-f9fbba90f530</td>\n",
       "      <td>0</td>\n",
       "      <td>0</td>\n",
       "      <td>0</td>\n",
       "      <td>0</td>\n",
       "      <td>0</td>\n",
       "      <td>50</td>\n",
       "      <td>NaN</td>\n",
       "      <td>NaN</td>\n",
       "    </tr>\n",
       "    <tr>\n",
       "      <th>2</th>\n",
       "      <td>0019bb9e-26d4-4ebf-8727-fc911ea28a92</td>\n",
       "      <td>0</td>\n",
       "      <td>0</td>\n",
       "      <td>0</td>\n",
       "      <td>0</td>\n",
       "      <td>0</td>\n",
       "      <td>2</td>\n",
       "      <td>NaN</td>\n",
       "      <td>NaN</td>\n",
       "    </tr>\n",
       "    <tr>\n",
       "      <th>3</th>\n",
       "      <td>0033b737-8235-4c0f-9801-dc4ca185af00</td>\n",
       "      <td>0</td>\n",
       "      <td>1</td>\n",
       "      <td>0</td>\n",
       "      <td>0</td>\n",
       "      <td>0</td>\n",
       "      <td>1090</td>\n",
       "      <td>0000-00-00 00:00:00.000</td>\n",
       "      <td>2025-02-19 12:48:24.632</td>\n",
       "    </tr>\n",
       "    <tr>\n",
       "      <th>4</th>\n",
       "      <td>00684343-40b5-4ce7-b2e8-71a5340973bf</td>\n",
       "      <td>0</td>\n",
       "      <td>0</td>\n",
       "      <td>0</td>\n",
       "      <td>0</td>\n",
       "      <td>0</td>\n",
       "      <td>0</td>\n",
       "      <td>NaN</td>\n",
       "      <td>NaN</td>\n",
       "    </tr>\n",
       "    <tr>\n",
       "      <th>...</th>\n",
       "      <td>...</td>\n",
       "      <td>...</td>\n",
       "      <td>...</td>\n",
       "      <td>...</td>\n",
       "      <td>...</td>\n",
       "      <td>...</td>\n",
       "      <td>...</td>\n",
       "      <td>...</td>\n",
       "      <td>...</td>\n",
       "    </tr>\n",
       "    <tr>\n",
       "      <th>2431</th>\n",
       "      <td>fecbdf63-3bf4-44e5-8b1a-0acc9d963603</td>\n",
       "      <td>0</td>\n",
       "      <td>0</td>\n",
       "      <td>0</td>\n",
       "      <td>0</td>\n",
       "      <td>0</td>\n",
       "      <td>111</td>\n",
       "      <td>NaN</td>\n",
       "      <td>NaN</td>\n",
       "    </tr>\n",
       "    <tr>\n",
       "      <th>2432</th>\n",
       "      <td>ff07d926-f09e-420b-bebf-3dba02ae5dff</td>\n",
       "      <td>0</td>\n",
       "      <td>1</td>\n",
       "      <td>0</td>\n",
       "      <td>0</td>\n",
       "      <td>0</td>\n",
       "      <td>54</td>\n",
       "      <td>2025-01-21 11:49:58.172</td>\n",
       "      <td>2025-02-28 11:55:04.999</td>\n",
       "    </tr>\n",
       "    <tr>\n",
       "      <th>2433</th>\n",
       "      <td>ff1ceaef-650c-422b-bdc3-6984e29e7aa5</td>\n",
       "      <td>0</td>\n",
       "      <td>0</td>\n",
       "      <td>0</td>\n",
       "      <td>0</td>\n",
       "      <td>0</td>\n",
       "      <td>162</td>\n",
       "      <td>NaN</td>\n",
       "      <td>NaN</td>\n",
       "    </tr>\n",
       "    <tr>\n",
       "      <th>2434</th>\n",
       "      <td>ff2cabd3-3316-4b3f-8494-c25f95e90524</td>\n",
       "      <td>0</td>\n",
       "      <td>1</td>\n",
       "      <td>0</td>\n",
       "      <td>0</td>\n",
       "      <td>0</td>\n",
       "      <td>57</td>\n",
       "      <td>2025-02-10 11:12:30.631</td>\n",
       "      <td>2025-02-10 12:37:47.892</td>\n",
       "    </tr>\n",
       "    <tr>\n",
       "      <th>2435</th>\n",
       "      <td>ff4909ad-4e52-4767-a6fc-0fbd76e37857</td>\n",
       "      <td>0</td>\n",
       "      <td>0</td>\n",
       "      <td>0</td>\n",
       "      <td>0</td>\n",
       "      <td>0</td>\n",
       "      <td>50</td>\n",
       "      <td>NaN</td>\n",
       "      <td>NaN</td>\n",
       "    </tr>\n",
       "  </tbody>\n",
       "</table>\n",
       "<p>2436 rows × 9 columns</p>\n",
       "</div>"
      ],
      "text/plain": [
       "                                 idCliente  flEmail  flTwitch  flYouTube  \\\n",
       "0     000ff655-fa9f-4baa-a108-47f581ec52a1        0         0          0   \n",
       "1     001749bd-37b5-4b1e-8111-f9fbba90f530        0         0          0   \n",
       "2     0019bb9e-26d4-4ebf-8727-fc911ea28a92        0         0          0   \n",
       "3     0033b737-8235-4c0f-9801-dc4ca185af00        0         1          0   \n",
       "4     00684343-40b5-4ce7-b2e8-71a5340973bf        0         0          0   \n",
       "...                                    ...      ...       ...        ...   \n",
       "2431  fecbdf63-3bf4-44e5-8b1a-0acc9d963603        0         0          0   \n",
       "2432  ff07d926-f09e-420b-bebf-3dba02ae5dff        0         1          0   \n",
       "2433  ff1ceaef-650c-422b-bdc3-6984e29e7aa5        0         0          0   \n",
       "2434  ff2cabd3-3316-4b3f-8494-c25f95e90524        0         1          0   \n",
       "2435  ff4909ad-4e52-4767-a6fc-0fbd76e37857        0         0          0   \n",
       "\n",
       "      flBlueSky  flInstagram  qtdePontos                dtCriacao  \\\n",
       "0             0            0         686                      NaN   \n",
       "1             0            0          50                      NaN   \n",
       "2             0            0           2                      NaN   \n",
       "3             0            0        1090  0000-00-00 00:00:00.000   \n",
       "4             0            0           0                      NaN   \n",
       "...         ...          ...         ...                      ...   \n",
       "2431          0            0         111                      NaN   \n",
       "2432          0            0          54  2025-01-21 11:49:58.172   \n",
       "2433          0            0         162                      NaN   \n",
       "2434          0            0          57  2025-02-10 11:12:30.631   \n",
       "2435          0            0          50                      NaN   \n",
       "\n",
       "                dtAtualizacao  \n",
       "0                         NaN  \n",
       "1                         NaN  \n",
       "2                         NaN  \n",
       "3     2025-02-19 12:48:24.632  \n",
       "4                         NaN  \n",
       "...                       ...  \n",
       "2431                      NaN  \n",
       "2432  2025-02-28 11:55:04.999  \n",
       "2433                      NaN  \n",
       "2434  2025-02-10 12:37:47.892  \n",
       "2435                      NaN  \n",
       "\n",
       "[2436 rows x 9 columns]"
      ]
     },
     "execution_count": 66,
     "metadata": {},
     "output_type": "execute_result"
    }
   ],
   "source": [
    "df = pd.read_csv(\"../data/clients.csv\")\n",
    "df"
   ]
  },
  {
   "cell_type": "markdown",
   "id": "ac6d2cf5",
   "metadata": {},
   "source": [
    "## Define a Function\n",
    "Define a function to extract the last part of a hyphen-separated string."
   ]
  },
  {
   "cell_type": "code",
   "execution_count": 67,
   "id": "0975ec7e",
   "metadata": {},
   "outputs": [],
   "source": [
    "def get_last_id(id):\n",
    "    \"\"\"\n",
    "    Extracts the last part of a hyphen-separated string.\n",
    "    Args:\n",
    "        id (str): A string containing hyphen-separated values.\n",
    "    Returns:\n",
    "        str: The last part of the input string after the last hyphen.\n",
    "    \"\"\"\n",
    "    return id.split(\"-\")[-1]"
   ]
  },
  {
   "cell_type": "markdown",
   "id": "22b71b1b",
   "metadata": {},
   "source": [
    "## Apply Function Without Pandas\n",
    "Use a loop to apply the function to each value in the `idCliente` column."
   ]
  },
  {
   "cell_type": "code",
   "execution_count": 68,
   "id": "31b0cc42",
   "metadata": {},
   "outputs": [],
   "source": [
    "new_id = []\n",
    "for i in df[\"idCliente\"]:\n",
    "    new = get_last_id(i)\n",
    "    new_id.append(new)"
   ]
  },
  {
   "cell_type": "markdown",
   "id": "38f399e2",
   "metadata": {},
   "source": [
    "## Apply Function Using Pandas\n",
    "Use the `apply` method to apply the function directly to the `idCliente` column."
   ]
  },
  {
   "cell_type": "code",
   "execution_count": 69,
   "id": "1a7bd1c6",
   "metadata": {},
   "outputs": [
    {
     "data": {
      "text/plain": [
       "0       47f581ec52a1\n",
       "1       f9fbba90f530\n",
       "2       fc911ea28a92\n",
       "3       dc4ca185af00\n",
       "4       71a5340973bf\n",
       "            ...     \n",
       "2431    0acc9d963603\n",
       "2432    3dba02ae5dff\n",
       "2433    6984e29e7aa5\n",
       "2434    c25f95e90524\n",
       "2435    0fbd76e37857\n",
       "Name: idCliente, Length: 2436, dtype: object"
      ]
     },
     "execution_count": 69,
     "metadata": {},
     "output_type": "execute_result"
    }
   ],
   "source": [
    "df[\"idCliente\"].apply(get_last_id)"
   ]
  },
  {
   "cell_type": "markdown",
   "id": "40e36f4d",
   "metadata": {},
   "source": [
    "## Load Another Dataset\n",
    "Load a dataset containing information about Brazilian states."
   ]
  },
  {
   "cell_type": "code",
   "execution_count": 70,
   "id": "2ae2149a",
   "metadata": {},
   "outputs": [
    {
     "data": {
      "text/html": [
       "<div>\n",
       "<style scoped>\n",
       "    .dataframe tbody tr th:only-of-type {\n",
       "        vertical-align: middle;\n",
       "    }\n",
       "\n",
       "    .dataframe tbody tr th {\n",
       "        vertical-align: top;\n",
       "    }\n",
       "\n",
       "    .dataframe thead th {\n",
       "        text-align: right;\n",
       "    }\n",
       "</style>\n",
       "<table border=\"1\" class=\"dataframe\">\n",
       "  <thead>\n",
       "    <tr style=\"text-align: right;\">\n",
       "      <th></th>\n",
       "      <th>Bandeira</th>\n",
       "      <th>Unidade federativa</th>\n",
       "      <th>Abreviação</th>\n",
       "      <th>Sede de governo</th>\n",
       "      <th>Área (km²)</th>\n",
       "      <th>População (Censo 2022)</th>\n",
       "      <th>Densidade (2005)</th>\n",
       "      <th>PIB (2015)</th>\n",
       "      <th>(% total) (2015)</th>\n",
       "      <th>PIB per capita (R$) (2015)</th>\n",
       "      <th>IDH (2010)</th>\n",
       "      <th>Alfabetização (2016)</th>\n",
       "      <th>Mortalidade infantil (2016)</th>\n",
       "      <th>Expectativa de vida (2016)</th>\n",
       "    </tr>\n",
       "  </thead>\n",
       "  <tbody>\n",
       "    <tr>\n",
       "      <th>0</th>\n",
       "      <td>NaN</td>\n",
       "      <td>Acre</td>\n",
       "      <td>AC</td>\n",
       "      <td>Rio Branco</td>\n",
       "      <td>164 122,2</td>\n",
       "      <td>830 018</td>\n",
       "      <td>430</td>\n",
       "      <td>13 622 000</td>\n",
       "      <td>2</td>\n",
       "      <td>16 953,46</td>\n",
       "      <td>663</td>\n",
       "      <td>86,9%</td>\n",
       "      <td>17,0‰</td>\n",
       "      <td>73,9 anos</td>\n",
       "    </tr>\n",
       "  </tbody>\n",
       "</table>\n",
       "</div>"
      ],
      "text/plain": [
       "   Bandeira Unidade federativa Abreviação Sede de governo Área (km²)  \\\n",
       "0       NaN               Acre         AC      Rio Branco  164 122,2   \n",
       "\n",
       "  População (Censo 2022)  Densidade (2005)  PIB (2015)  (% total) (2015)  \\\n",
       "0                830 018               430  13 622 000                 2   \n",
       "\n",
       "  PIB per capita (R$) (2015)  IDH (2010) Alfabetização (2016)  \\\n",
       "0                  16 953,46         663                86,9%   \n",
       "\n",
       "  Mortalidade infantil (2016) Expectativa de vida (2016)  \n",
       "0                       17,0‰                  73,9 anos  "
      ]
     },
     "execution_count": 70,
     "metadata": {},
     "output_type": "execute_result"
    }
   ],
   "source": [
    "df_uf = pd.read_csv(\"../data/ufs_brazil.csv\", sep=\";\")\n",
    "df_uf.head(1)"
   ]
  },
  {
   "cell_type": "markdown",
   "id": "aae9d2fe",
   "metadata": {},
   "source": [
    "## Convert Strings to Floats\n",
    "Define a function to clean and convert formatted strings into float values."
   ]
  },
  {
   "cell_type": "code",
   "execution_count": 71,
   "id": "2bca6297",
   "metadata": {},
   "outputs": [],
   "source": [
    "def str_to_float(number:str):\n",
    "    \"\"\"\n",
    "    Converts a formatted string representing a number into a float.\n",
    "    Args:\n",
    "        number (str): The input string containing a number with formatting, \n",
    "                      such as spaces, commas, or non-breaking spaces.\n",
    "    Returns:\n",
    "        float: The numeric value as a float after removing formatting.\n",
    "    \"\"\"\n",
    "    number = (number.replace(\" \", \"\")\n",
    "                   .replace(\",\", \".\")\n",
    "                   .replace(\"\\xa0\", \"\")\n",
    "                   .replace(\"anos\", \"\"))\n",
    "    return float(number)"
   ]
  },
  {
   "cell_type": "markdown",
   "id": "922678ea",
   "metadata": {},
   "source": [
    "## Apply String-to-Float Conversion\n",
    "Apply the `str_to_float` function to multiple columns in the dataset."
   ]
  },
  {
   "cell_type": "code",
   "execution_count": 72,
   "id": "f9402e94",
   "metadata": {},
   "outputs": [],
   "source": [
    "df_uf[\"Área (km²)\"] = df_uf[\"Área (km²)\"].apply(str_to_float)\n",
    "df_uf[\"População (Censo 2022)\"] = df_uf[\"População (Censo 2022)\"].apply(str_to_float)\n",
    "df_uf[\"PIB (2015)\"] = df_uf[\"PIB (2015)\"].apply(str_to_float)\n",
    "df_uf[\"PIB per capita (R$) (2015)\"] = df_uf[\"PIB per capita (R$) (2015)\"].apply(str_to_float)\n",
    "df_uf[\"Expectativa de vida (2016)\"] = df_uf[\"Expectativa de vida (2016)\"]\n",
    "# Apply all transformations together to avoid type errors."
   ]
  },
  {
   "cell_type": "markdown",
   "id": "e9e9263e",
   "metadata": {},
   "source": [
    "## Convert Mortality Rates\n",
    "Define a function to clean and convert mortality rates into float values."
   ]
  },
  {
   "cell_type": "code",
   "execution_count": 73,
   "id": "77508a4c",
   "metadata": {},
   "outputs": [],
   "source": [
    "def mortality_to_float(mor:str):\n",
    "    mor = float(mor.replace(\"‰\",\"\")\n",
    "           .replace(\",\",\".\"))\n",
    "    return mor"
   ]
  },
  {
   "cell_type": "markdown",
   "id": "81bd682b",
   "metadata": {},
   "source": [
    "## Apply Mortality Conversion\n",
    "Apply the `mortality_to_float` function to the mortality column."
   ]
  },
  {
   "cell_type": "code",
   "execution_count": 74,
   "id": "9f2116b4",
   "metadata": {},
   "outputs": [],
   "source": [
    "df_uf[\"Mortalidade infantil (2016) por mil\"] = df_uf[\"Mortalidade infantil (2016)\"].apply(mortality_to_float)"
   ]
  },
  {
   "cell_type": "markdown",
   "id": "aa877cea",
   "metadata": {},
   "source": [
    "## Define Classification Function\n",
    "Define a function to classify rows based on specific criteria."
   ]
  },
  {
   "cell_type": "code",
   "execution_count": 75,
   "id": "8aa9589e",
   "metadata": {},
   "outputs": [],
   "source": [
    "def classification(row):\n",
    "    return (\n",
    "        row[\"PIB per capita (R$) (2015)\"] > 30000 and\n",
    "        row[\"Mortalidade infantil (2016) por mil\"] < 15 and\n",
    "        row[\"IDH (2010)\"] > 700\n",
    "    )"
   ]
  },
  {
   "cell_type": "markdown",
   "id": "016b2baa",
   "metadata": {},
   "source": [
    "## Apply Classification Function\n",
    "Apply the `classification` function to classify rows in the dataset."
   ]
  },
  {
   "cell_type": "code",
   "execution_count": 76,
   "id": "1d05221b",
   "metadata": {},
   "outputs": [
    {
     "data": {
      "text/plain": [
       "0     False\n",
       "1     False\n",
       "2     False\n",
       "3     False\n",
       "4     False\n",
       "5     False\n",
       "6      True\n",
       "7      True\n",
       "8     False\n",
       "9     False\n",
       "10    False\n",
       "11     True\n",
       "12    False\n",
       "13    False\n",
       "14    False\n",
       "15     True\n",
       "16    False\n",
       "17    False\n",
       "18     True\n",
       "19    False\n",
       "20     True\n",
       "21    False\n",
       "22    False\n",
       "23     True\n",
       "24     True\n",
       "25    False\n",
       "26    False\n",
       "dtype: bool"
      ]
     },
     "execution_count": 76,
     "metadata": {},
     "output_type": "execute_result"
    }
   ],
   "source": [
    "df_uf.apply(classification, axis=1)"
   ]
  }
 ],
 "metadata": {
  "kernelspec": {
   "display_name": "base",
   "language": "python",
   "name": "python3"
  },
  "language_info": {
   "codemirror_mode": {
    "name": "ipython",
    "version": 3
   },
   "file_extension": ".py",
   "mimetype": "text/x-python",
   "name": "python",
   "nbconvert_exporter": "python",
   "pygments_lexer": "ipython3",
   "version": "3.12.7"
  }
 },
 "nbformat": 4,
 "nbformat_minor": 5
}
