{
 "cells": [
  {
   "cell_type": "markdown",
   "id": "8e0d6ba0",
   "metadata": {},
   "source": [
    "# Applying Functions in Pandas\n",
    "This notebook demonstrates how to use Python functions with Pandas, including the `apply` method, to manipulate and transform data."
   ]
  },
  {
   "cell_type": "markdown",
   "id": "0acc133a",
   "metadata": {},
   "source": [
    "## Import Required Libraries\n",
    "We start by importing the necessary libraries."
   ]
  },
  {
   "cell_type": "code",
   "execution_count": null,
   "id": "f4e4ea9d",
   "metadata": {},
   "outputs": [],
   "source": [
    "import pandas as pd"
   ]
  },
  {
   "cell_type": "markdown",
   "id": "78cf974a",
   "metadata": {},
   "source": [
    "## Load Data\n",
    "Load the dataset containing client information."
   ]
  },
  {
   "cell_type": "code",
   "execution_count": null,
   "id": "ee4bac34",
   "metadata": {},
   "outputs": [],
   "source": [
    "df = pd.read_csv(\"../data/clients.csv\")\n",
    "df"
   ]
  },
  {
   "cell_type": "markdown",
   "id": "ac6d2cf5",
   "metadata": {},
   "source": [
    "## Define a Function\n",
    "Define a function to extract the last part of a hyphen-separated string."
   ]
  },
  {
   "cell_type": "code",
   "execution_count": null,
   "id": "0975ec7e",
   "metadata": {},
   "outputs": [],
   "source": [
    "def get_last_id(id):\n",
    "    \"\"\"\n",
    "    Extracts the last part of a hyphen-separated string.\n",
    "    Args:\n",
    "        id (str): A string containing hyphen-separated values.\n",
    "    Returns:\n",
    "        str: The last part of the input string after the last hyphen.\n",
    "    \"\"\"\n",
    "    return id.split(\"-\")[-1]"
   ]
  },
  {
   "cell_type": "markdown",
   "id": "22b71b1b",
   "metadata": {},
   "source": [
    "## Apply Function Without Pandas\n",
    "Use a loop to apply the function to each value in the `idCliente` column."
   ]
  },
  {
   "cell_type": "code",
   "execution_count": null,
   "id": "31b0cc42",
   "metadata": {},
   "outputs": [],
   "source": [
    "new_id = []\n",
    "for i in df[\"idCliente\"]:\n",
    "    new = get_last_id(i)\n",
    "    new_id.append(new)"
   ]
  },
  {
   "cell_type": "markdown",
   "id": "38f399e2",
   "metadata": {},
   "source": [
    "## Apply Function Using Pandas\n",
    "Use the `apply` method to apply the function directly to the `idCliente` column."
   ]
  },
  {
   "cell_type": "code",
   "execution_count": null,
   "id": "1a7bd1c6",
   "metadata": {},
   "outputs": [],
   "source": [
    "df[\"idCliente\"].apply(get_last_id)"
   ]
  },
  {
   "cell_type": "markdown",
   "id": "40e36f4d",
   "metadata": {},
   "source": [
    "## Load Another Dataset\n",
    "Load a dataset containing information about Brazilian states."
   ]
  },
  {
   "cell_type": "code",
   "execution_count": null,
   "id": "2ae2149a",
   "metadata": {},
   "outputs": [],
   "source": [
    "df_uf = pd.read_csv(\"../data/ufs_brazil.csv\", sep=\";\")\n",
    "df_uf.head(1)"
   ]
  },
  {
   "cell_type": "markdown",
   "id": "aae9d2fe",
   "metadata": {},
   "source": [
    "## Convert Strings to Floats\n",
    "Define a function to clean and convert formatted strings into float values."
   ]
  },
  {
   "cell_type": "code",
   "execution_count": null,
   "id": "2bca6297",
   "metadata": {},
   "outputs": [],
   "source": [
    "def str_to_float(number:str):\n",
    "    \"\"\"\n",
    "    Converts a formatted string representing a number into a float.\n",
    "    Args:\n",
    "        number (str): The input string containing a number with formatting, \n",
    "                      such as spaces, commas, or non-breaking spaces.\n",
    "    Returns:\n",
    "        float: The numeric value as a float after removing formatting.\n",
    "    \"\"\"\n",
    "    number = (number.replace(\" \", \"\")\n",
    "                   .replace(\",\", \".\")\n",
    "                   .replace(\"\\xa0\", \"\")\n",
    "                   .replace(\"anos\", \"\"))\n",
    "    return float(number)"
   ]
  },
  {
   "cell_type": "markdown",
   "id": "922678ea",
   "metadata": {},
   "source": [
    "## Apply String-to-Float Conversion\n",
    "Apply the `str_to_float` function to multiple columns in the dataset."
   ]
  },
  {
   "cell_type": "code",
   "execution_count": null,
   "id": "f9402e94",
   "metadata": {},
   "outputs": [],
   "source": [
    "df_uf[\"Área (km²)\"] = df_uf[\"Área (km²)\"].apply(str_to_float)\n",
    "df_uf[\"População (Censo 2022)\"] = df_uf[\"População (Censo 2022)\"].apply(str_to_float)\n",
    "df_uf[\"PIB (2015)\"] = df_uf[\"PIB (2015)\"].apply(str_to_float)\n",
    "df_uf[\"PIB per capita (R$) (2015)\"] = df_uf[\"PIB per capita (R$) (2015)\"].apply(str_to_float)\n",
    "df_uf[\"Expectativa de vida (2016)\"] = df_uf[\"Expectativa de vida (2016)\"]\n",
    "# Apply all transformations together to avoid type errors."
   ]
  },
  {
   "cell_type": "markdown",
   "id": "e9e9263e",
   "metadata": {},
   "source": [
    "## Convert Mortality Rates\n",
    "Define a function to clean and convert mortality rates into float values."
   ]
  },
  {
   "cell_type": "code",
   "execution_count": null,
   "id": "77508a4c",
   "metadata": {},
   "outputs": [],
   "source": [
    "def mortality_to_float(mor:str):\n",
    "    mor = float(mor.replace(\"‰\",\"\")\n",
    "           .replace(\",\",\".\"))\n",
    "    return mor"
   ]
  },
  {
   "cell_type": "markdown",
   "id": "81bd682b",
   "metadata": {},
   "source": [
    "## Apply Mortality Conversion\n",
    "Apply the `mortality_to_float` function to the mortality column."
   ]
  },
  {
   "cell_type": "code",
   "execution_count": null,
   "id": "9f2116b4",
   "metadata": {},
   "outputs": [],
   "source": [
    "df_uf[\"Mortalidade infantil (2016) por mil\"] = df_uf[\"Mortalidade infantil (2016)\"].apply(mortality_to_float)"
   ]
  },
  {
   "cell_type": "markdown",
   "id": "aa877cea",
   "metadata": {},
   "source": [
    "## Define Classification Function\n",
    "Define a function to classify rows based on specific criteria."
   ]
  },
  {
   "cell_type": "code",
   "execution_count": null,
   "id": "8aa9589e",
   "metadata": {},
   "outputs": [],
   "source": [
    "def classification(row):\n",
    "    return (\n",
    "        row[\"PIB per capita (R$) (2015)\"] > 30000 and\n",
    "        row[\"Mortalidade infantil (2016) por mil\"] < 15 and\n",
    "        row[\"IDH (2010)\"] > 700\n",
    "    )"
   ]
  },
  {
   "cell_type": "markdown",
   "id": "016b2baa",
   "metadata": {},
   "source": [
    "## Apply Classification Function\n",
    "Apply the `classification` function to classify rows in the dataset."
   ]
  },
  {
   "cell_type": "code",
   "execution_count": null,
   "id": "1d05221b",
   "metadata": {},
   "outputs": [],
   "source": [
    "df_uf.apply(classification, axis=1)"
   ]
  }
 ],
 "metadata": {
  "kernelspec": {
   "display_name": "base",
   "language": "python",
   "name": "python3"
  },
  "language_info": {
   "codemirror_mode": {
    "name": "ipython",
    "version": 3
   },
   "file_extension": ".py",
   "mimetype": "text/x-python",
   "name": "python",
   "nbconvert_exporter": "python",
   "pygments_lexer": "ipython3",
   "version": "3.12.7"
  }
 },
 "nbformat": 4,
 "nbformat_minor": 5
}
