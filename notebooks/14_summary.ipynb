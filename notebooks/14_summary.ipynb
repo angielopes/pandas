{
 "cells": [
  {
   "cell_type": "markdown",
   "id": "fe9642b1",
   "metadata": {},
   "source": [
    "# Summary and Aggregation in Pandas\n",
    "This notebook demonstrates how to perform basic aggregation and summarization operations using Pandas.\n",
    "We will cover creating Series, performing aggregations, loading datasets, and analyzing numeric columns."
   ]
  },
  {
   "cell_type": "markdown",
   "id": "e1112b67",
   "metadata": {},
   "source": [
    "## Importing Required Libraries\n",
    "We start by importing the Pandas library, which is essential for data manipulation and analysis."
   ]
  },
  {
   "cell_type": "code",
   "execution_count": null,
   "id": "d4295e46",
   "metadata": {},
   "outputs": [],
   "source": [
    "# Importing the Pandas library for data manipulation and analysis\n",
    "import pandas as pd"
   ]
  },
  {
   "cell_type": "markdown",
   "id": "7413033b",
   "metadata": {},
   "source": [
    "## Creating a Sample Series\n",
    "We create a Pandas Series containing a list of ages for demonstration purposes.\n",
    "This Series will be used to showcase various aggregation methods."
   ]
  },
  {
   "cell_type": "code",
   "execution_count": null,
   "id": "f71ba57b",
   "metadata": {},
   "outputs": [],
   "source": [
    "# Creating a sample Series with a list of ages\n",
    "ages = [4, 7, 89, 45, 34, 27, 15, 25, 12, 8]\n",
    "ages = pd.Series(ages)  # Convert the list into a Pandas Series"
   ]
  },
  {
   "cell_type": "markdown",
   "id": "ed21ddb3",
   "metadata": {},
   "source": [
    "## Performing Aggregations\n",
    "We calculate various summary statistics such as sum, minimum, maximum, mean, and a descriptive summary of the Series.\n",
    "These operations help us understand the distribution and key metrics of the data."
   ]
  },
  {
   "cell_type": "code",
   "execution_count": null,
   "id": "b369a0ed",
   "metadata": {},
   "outputs": [],
   "source": [
    "# Performing aggregation operations on the Series\n",
    "ages.sum()  # Calculate the total sum of ages\n",
    "ages.min()  # Find the minimum age\n",
    "ages.max()  # Find the maximum age\n",
    "ages.mean()  # Calculate the average age\n",
    "ages.describe()  # Generate descriptive statistics for the Series"
   ]
  },
  {
   "cell_type": "markdown",
   "id": "379879ee",
   "metadata": {},
   "source": [
    "## Loading a Dataset\n",
    "We load a dataset of clients from a CSV file for further analysis.\n",
    "This dataset contains information about clients and their activity on various social networks."
   ]
  },
  {
   "cell_type": "code",
   "execution_count": null,
   "id": "4518b291",
   "metadata": {},
   "outputs": [],
   "source": [
    "# Loading the dataset from a CSV file\n",
    "clients = pd.read_csv(\"../data/clients.csv\")  # Load the dataset into a DataFrame\n",
    "clients.head()  # Display the first few rows of the dataset for an overview"
   ]
  },
  {
   "cell_type": "markdown",
   "id": "78cad819",
   "metadata": {},
   "source": [
    "## Summing Social Network Flags\n",
    "We calculate the total number of clients active on each social network.\n",
    "This helps us understand the popularity of each platform among the clients."
   ]
  },
  {
   "cell_type": "code",
   "execution_count": null,
   "id": "bcb9224c",
   "metadata": {},
   "outputs": [],
   "source": [
    "# Summing the flags for each social network to find the total active clients\n",
    "social_network = [\"flEmail\", \"flTwitch\", \"flYouTube\", \"flBlueSky\", \"flInstagram\"]\n",
    "clients[social_network].sum()  # Calculate the sum for each social network column"
   ]
  },
  {
   "cell_type": "markdown",
   "id": "01a85e0f",
   "metadata": {},
   "source": [
    "## Filtering Numeric Columns\n",
    "We filter out columns that are not of type `object` to focus on numeric data.\n",
    "This step is useful for performing numeric operations on the dataset."
   ]
  },
  {
   "cell_type": "code",
   "execution_count": null,
   "id": "2f0489ae",
   "metadata": {},
   "outputs": [],
   "source": [
    "# Filtering columns to include only numeric data types\n",
    "num_columns = clients.dtypes[clients.dtypes != \"object\"].index.to_list()  # Get the list of numeric columns"
   ]
  },
  {
   "cell_type": "markdown",
   "id": "25f72428",
   "metadata": {},
   "source": [
    "## Summing Numeric Columns\n",
    "We calculate the sum of all numeric columns in the dataset.\n",
    "This provides an overview of the total values for each numeric attribute."
   ]
  },
  {
   "cell_type": "code",
   "execution_count": null,
   "id": "d9b7ea6b",
   "metadata": {},
   "outputs": [],
   "source": [
    "# Summing all numeric columns in the dataset\n",
    "clients[num_columns].sum()  # Calculate the sum for each numeric column"
   ]
  },
  {
   "cell_type": "markdown",
   "id": "a0a7293d",
   "metadata": {},
   "source": [
    "## Descriptive Statistics for Numeric Columns\n",
    "We generate descriptive statistics for all numeric columns in the dataset.\n",
    "This includes metrics such as mean, standard deviation, and percentiles."
   ]
  },
  {
   "cell_type": "code",
   "execution_count": null,
   "id": "5a84476d",
   "metadata": {},
   "outputs": [],
   "source": [
    "# Generating descriptive statistics for numeric columns\n",
    "clients[num_columns].describe()  # Returns a DataFrame with descriptive statistics for numeric columns"
   ]
  }
 ],
 "metadata": {
  "kernelspec": {
   "display_name": "base",
   "language": "python",
   "name": "python3"
  },
  "language_info": {
   "codemirror_mode": {
    "name": "ipython",
    "version": 3
   },
   "file_extension": ".py",
   "mimetype": "text/x-python",
   "name": "python",
   "nbconvert_exporter": "python",
   "pygments_lexer": "ipython3",
   "version": "3.12.7"
  }
 },
 "nbformat": 4,
 "nbformat_minor": 5
}
