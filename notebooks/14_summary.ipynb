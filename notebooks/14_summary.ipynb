{
 "cells": [
  {
   "cell_type": "markdown",
   "id": "fe9642b1",
   "metadata": {},
   "source": [
    "# Summary and Aggregation in Pandas\n",
    "This notebook demonstrates how to perform basic aggregation and summarization operations using Pandas."
   ]
  },
  {
   "cell_type": "markdown",
   "id": "e1112b67",
   "metadata": {},
   "source": [
    "## Importing Required Libraries\n",
    "We start by importing the Pandas library, which is essential for data manipulation and analysis."
   ]
  },
  {
   "cell_type": "code",
   "execution_count": null,
   "id": "d4295e46",
   "metadata": {},
   "outputs": [],
   "source": [
    "import pandas as pd"
   ]
  },
  {
   "cell_type": "markdown",
   "id": "7413033b",
   "metadata": {},
   "source": [
    "## Creating a Sample Series\n",
    "Here, we create a Pandas Series containing a list of ages for demonstration purposes."
   ]
  },
  {
   "cell_type": "code",
   "execution_count": null,
   "id": "f71ba57b",
   "metadata": {},
   "outputs": [],
   "source": [
    "ages = [4, 7, 89, 45, 34, 27, 15, 25, 12, 8]\n",
    "ages = pd.Series(ages)"
   ]
  },
  {
   "cell_type": "markdown",
   "id": "ed21ddb3",
   "metadata": {},
   "source": [
    "## Performing Aggregations\n",
    "We calculate various summary statistics such as sum, minimum, maximum, mean, and a descriptive summary of the Series."
   ]
  },
  {
   "cell_type": "code",
   "execution_count": null,
   "id": "b369a0ed",
   "metadata": {},
   "outputs": [],
   "source": [
    "# Aggregations / Summarizations\n",
    "ages.sum()  # Total sum of ages\n",
    "ages.min()  # Minimum age\n",
    "ages.max()  # Maximum age\n",
    "ages.mean()  # Average age\n",
    "ages.describe()  # Descriptive statistics"
   ]
  },
  {
   "cell_type": "markdown",
   "id": "379879ee",
   "metadata": {},
   "source": [
    "## Loading a Dataset\n",
    "We load a dataset of clients from a CSV file for further analysis."
   ]
  },
  {
   "cell_type": "code",
   "execution_count": null,
   "id": "4518b291",
   "metadata": {},
   "outputs": [],
   "source": [
    "clients = pd.read_csv(\"../data/clients.csv\")\n",
    "clients.head()  # Display the first few rows of the dataset"
   ]
  },
  {
   "cell_type": "markdown",
   "id": "78cad819",
   "metadata": {},
   "source": [
    "## Summing Social Network Flags\n",
    "We calculate the total number of clients active on each social network."
   ]
  },
  {
   "cell_type": "code",
   "execution_count": null,
   "id": "bcb9224c",
   "metadata": {},
   "outputs": [],
   "source": [
    "social_network = [\"flEmail\", \"flTwitch\", \"flYouTube\", \"flBlueSky\", \"flInstagram\"]\n",
    "clients[social_network].sum()  # Sum of social network flags"
   ]
  },
  {
   "cell_type": "markdown",
   "id": "01a85e0f",
   "metadata": {},
   "source": [
    "## Filtering Numeric Columns\n",
    "We filter out columns that are not of type `object` to focus on numeric data."
   ]
  },
  {
   "cell_type": "code",
   "execution_count": null,
   "id": "2f0489ae",
   "metadata": {},
   "outputs": [],
   "source": [
    "# Filtering only columns that are not of type \"object\"\n",
    "num_columns = clients.dtypes[clients.dtypes != \"object\"].index.to_list()"
   ]
  },
  {
   "cell_type": "markdown",
   "id": "25f72428",
   "metadata": {},
   "source": [
    "## Summing Numeric Columns\n",
    "We calculate the sum of all numeric columns in the dataset."
   ]
  },
  {
   "cell_type": "code",
   "execution_count": null,
   "id": "d9b7ea6b",
   "metadata": {},
   "outputs": [],
   "source": [
    "clients[num_columns].sum()  # Sum of numeric columns"
   ]
  },
  {
   "cell_type": "markdown",
   "id": "a0a7293d",
   "metadata": {},
   "source": [
    "## Descriptive Statistics for Numeric Columns\n",
    "We generate descriptive statistics for all numeric columns in the dataset."
   ]
  },
  {
   "cell_type": "code",
   "execution_count": null,
   "id": "5a84476d",
   "metadata": {},
   "outputs": [],
   "source": [
    "clients[num_columns].describe()  # Returns a DataFrame with descriptive statistics"
   ]
  }
 ],
 "metadata": {
  "kernelspec": {
   "display_name": "base",
   "language": "python",
   "name": "python3"
  },
  "language_info": {
   "codemirror_mode": {
    "name": "ipython",
    "version": 3
   },
   "file_extension": ".py",
   "mimetype": "text/x-python",
   "name": "python",
   "nbconvert_exporter": "python",
   "pygments_lexer": "ipython3",
   "version": "3.12.7"
  }
 },
 "nbformat": 4,
 "nbformat_minor": 5
}
