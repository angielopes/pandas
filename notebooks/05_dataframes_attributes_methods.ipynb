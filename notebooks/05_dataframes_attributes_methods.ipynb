{
 "cells": [
  {
   "cell_type": "markdown",
   "id": "28a0d107",
   "metadata": {},
   "source": [
    "# DataFrame Attributes and Methods\n",
    "This notebook demonstrates various attributes and methods available for pandas DataFrames."
   ]
  },
  {
   "cell_type": "code",
   "execution_count": null,
   "id": "1a6945ec",
   "metadata": {},
   "outputs": [],
   "source": [
    "import pandas as pd"
   ]
  },
  {
   "cell_type": "markdown",
   "id": "e15d1fdf",
   "metadata": {},
   "source": [
    "## Load the Dataset\n",
    "We will load the dataset `clients.csv` into a DataFrame."
   ]
  },
  {
   "cell_type": "code",
   "execution_count": null,
   "id": "3826dcc2",
   "metadata": {},
   "outputs": [],
   "source": [
    "df_clients = pd.read_csv(\"../data/clients.csv\")\n",
    "df_clients"
   ]
  },
  {
   "cell_type": "markdown",
   "id": "e8a731c6",
   "metadata": {},
   "source": [
    "## Displaying Data\n",
    "Methods to display the first, last, or random rows of the DataFrame."
   ]
  },
  {
   "cell_type": "code",
   "execution_count": null,
   "id": "a31de5e2",
   "metadata": {},
   "outputs": [],
   "source": [
    "# Display the first 10 rows of the DataFrame\n",
    "df_clients.head(10)"
   ]
  },
  {
   "cell_type": "code",
   "execution_count": null,
   "id": "661bb091",
   "metadata": {},
   "outputs": [],
   "source": [
    "# Display the last 10 rows of the DataFrame\n",
    "df_clients.tail(10)"
   ]
  },
  {
   "cell_type": "code",
   "execution_count": null,
   "id": "c110653c",
   "metadata": {},
   "outputs": [],
   "source": [
    "# Display a random sample of 10 rows\n",
    "df_clients.sample(10)"
   ]
  },
  {
   "cell_type": "markdown",
   "id": "0f9e9f99",
   "metadata": {},
   "source": [
    "## DataFrame Shape and Structure\n",
    "Attributes to understand the structure of the DataFrame."
   ]
  },
  {
   "cell_type": "code",
   "execution_count": null,
   "id": "f207f173",
   "metadata": {},
   "outputs": [],
   "source": [
    "# Get the shape of the DataFrame (rows, columns)\n",
    "df_clients.shape"
   ]
  },
  {
   "cell_type": "code",
   "execution_count": null,
   "id": "c432c6f6",
   "metadata": {},
   "outputs": [],
   "source": [
    "# Get the column names of the DataFrame\n",
    "df_clients.columns"
   ]
  },
  {
   "cell_type": "code",
   "execution_count": null,
   "id": "3f2e5175",
   "metadata": {},
   "outputs": [],
   "source": [
    "# Get the index of the DataFrame\n",
    "df_clients.index"
   ]
  },
  {
   "cell_type": "markdown",
   "id": "3d35ce1f",
   "metadata": {},
   "source": [
    "## DataFrame Information\n",
    "Methods to retrieve metadata and memory usage of the DataFrame."
   ]
  },
  {
   "cell_type": "code",
   "execution_count": null,
   "id": "6181f211",
   "metadata": {},
   "outputs": [],
   "source": [
    "# Get a summary of the DataFrame, including non-null counts and data types\n",
    "df_clients.info()"
   ]
  },
  {
   "cell_type": "code",
   "execution_count": null,
   "id": "41604d65",
   "metadata": {},
   "outputs": [],
   "source": [
    "# Get memory usage of the DataFrame, including deep memory usage\n",
    "df_clients.info(memory_usage='deep')"
   ]
  },
  {
   "cell_type": "markdown",
   "id": "2e076003",
   "metadata": {},
   "source": [
    "## Data Types\n",
    "Retrieve the data types of columns in the DataFrame."
   ]
  },
  {
   "cell_type": "code",
   "execution_count": null,
   "id": "9209d5d3",
   "metadata": {},
   "outputs": [],
   "source": [
    "# Get the data types of all columns\n",
    "df_clients.dtypes"
   ]
  },
  {
   "cell_type": "code",
   "execution_count": null,
   "id": "a0d530fa",
   "metadata": {},
   "outputs": [],
   "source": [
    "# Get the data type of a specific column (e.g., 'idCliente')\n",
    "df_clients.dtypes['idCliente']"
   ]
  }
 ],
 "metadata": {
  "kernelspec": {
   "display_name": "base",
   "language": "python",
   "name": "python3"
  },
  "language_info": {
   "codemirror_mode": {
    "name": "ipython",
    "version": 3
   },
   "file_extension": ".py",
   "mimetype": "text/x-python",
   "name": "python",
   "nbconvert_exporter": "python",
   "pygments_lexer": "ipython3",
   "version": "3.12.7"
  }
 },
 "nbformat": 4,
 "nbformat_minor": 5
}
