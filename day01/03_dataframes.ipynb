{
    "cells": [
        {
            "cell_type": "code",
            "execution_count": null,
            "metadata": {},
            "outputs": [],
            "source": [
                "# Importing the pandas library\n",
                "import pandas as pd"
            ]
        },
        {
            "cell_type": "markdown",
            "metadata": {},
            "source": [
                "### Defining Data\n",
                "We will define two lists: one for names and another for ages."
            ]
        },
        {
            "cell_type": "code",
            "execution_count": null,
            "metadata": {},
            "outputs": [],
            "source": [
                "# List of names\n",
                "names = [\n",
                "    \"Tapioca\",\n",
                "    \"Marceline\",\n",
                "    \"Frida\",\n",
                "    \"Bambu\",\n",
                "    \"Jennie\",\n",
                "    \"Stacy\",\n",
                "    \"Frodo\",\n",
                "    \"Naniquinha\",\n",
                "    \"Mon Cherri\",\n",
                "]"
            ]
        },
        {
            "cell_type": "code",
            "execution_count": null,
            "metadata": {},
            "outputs": [],
            "source": [
                "# List of ages\n",
                "ages = [3, 2, 8, 9, 3, 1, 8, 2, 1]"
            ]
        },
        {
            "cell_type": "markdown",
            "metadata": {},
            "source": [
                "### Creating Pandas Series\n",
                "Convert the lists into Pandas Series for easier manipulation."
            ]
        },
        {
            "cell_type": "code",
            "execution_count": null,
            "metadata": {},
            "outputs": [],
            "source": [
                "# Creating Series from lists\n",
                "series_ages = pd.Series(ages)\n",
                "series_names = pd.Series(names)"
            ]
        },
        {
            "cell_type": "markdown",
            "metadata": {},
            "source": [
                "### Creating a DataFrame\n",
                "Combine the Series into a DataFrame for structured data representation."
            ]
        },
        {
            "cell_type": "code",
            "execution_count": null,
            "metadata": {},
            "outputs": [],
            "source": [
                "# Creating a DataFrame\n",
                "df = pd.DataFrame()\n",
                "df[\"ages\"] = series_ages\n",
                "df[\"names\"] = series_names\n",
                "df"
            ]
        },
        {
            "cell_type": "markdown",
            "metadata": {},
            "source": [
                "### Accessing Columns\n",
                "Access a specific column in the DataFrame."
            ]
        },
        {
            "cell_type": "code",
            "execution_count": null,
            "metadata": {},
            "outputs": [],
            "source": [
                "# Accessing the 'names' column\n",
                "df[\"names\"]"
            ]
        },
        {
            "cell_type": "markdown",
            "metadata": {},
            "source": [
                "### Accessing Rows\n",
                "Access a specific row in the DataFrame using `iloc`."
            ]
        },
        {
            "cell_type": "code",
            "execution_count": null,
            "metadata": {},
            "outputs": [],
            "source": [
                "# Accessing the first row (returns a Series)\n",
                "df.iloc[0]"
            ]
        },
        {
            "cell_type": "markdown",
            "metadata": {},
            "source": [
                "### Accessing a Specific Value\n",
                "Access a specific value in the DataFrame using row and column indexing."
            ]
        },
        {
            "cell_type": "code",
            "execution_count": null,
            "metadata": {},
            "outputs": [],
            "source": [
                "# Accessing a specific value (row 0, column 'names')\n",
                "df.iloc[0][\"names\"]"
            ]
        }
    ],
    "metadata": {
        "kernelspec": {
            "display_name": "base",
            "language": "python",
            "name": "python3"
        },
        "language_info": {
            "codemirror_mode": {
                "name": "ipython",
                "version": 3
            },
            "file_extension": ".py",
            "mimetype": "text/x-python",
            "name": "python",
            "nbconvert_exporter": "python",
            "pygments_lexer": "ipython3",
            "version": "3.12.7"
        }
    },
    "nbformat": 4,
    "nbformat_minor": 2
}
